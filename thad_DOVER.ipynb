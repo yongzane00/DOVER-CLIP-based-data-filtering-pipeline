{
 "cells": [
  {
   "cell_type": "markdown",
   "id": "1a6cd210",
   "metadata": {},
   "source": [
    "# Test notebook to implement VQA method from https://github.com/VQAssessment/DOVER\n",
    "\n",
    "## Dependencies from DOVER:\n",
    "torch~=1.13\n",
    "torchvision\n",
    "opencv-python\n",
    "decord\n",
    "matplotlib\n",
    "scipy\n",
    "numpy\n",
    "tqdm\n",
    "timm\n",
    "einops\n",
    "wandb\n",
    "scikit-video\n",
    "thop==0.0.31-2005241907\n",
    "onnx\n",
    "argparse\n",
    "\n",
    "## Dependencies from my modified version:\n",
    "pandas"
   ]
  },
  {
   "cell_type": "code",
   "execution_count": 1,
   "id": "d2643dd4",
   "metadata": {},
   "outputs": [],
   "source": [
    "import argparse\n",
    "import dover_eval_thad as dover\n",
    "import pandas"
   ]
  },
  {
   "cell_type": "code",
   "execution_count": 2,
   "id": "b81ae1a8",
   "metadata": {},
   "outputs": [],
   "source": [
    "# Create a class to parse arguments into video quality assessment function\n",
    "# There's probably a smarter way to do this, but whatever\n",
    "# Trying to work with legacy code inherited from the DOVER library - was originally meant to be a CLI tool\n",
    "# But we gotta use Jupyter Notebook so it is what it is\n",
    "\n",
    "class doverArgs(argparse.Namespace):\n",
    "  opt = \".\\dover-mobile.yml\" # Relative path to the pre-trained model weights (using DOVER mobile because i'm weak af)\n",
    "  input_video_dir = \"..\\scenes\" # Relative path to downloaded clips (.mp4 format)\n",
    "  output_result_csv = \"..\\DOVER_pred_scores.csv\" # Relative path to save an output csv file with scores and URLs\n",
    "  device = \"cpu\" # Torch device used (CPU cuz again, laptop no processing power lol)\n",
    "\n",
    "args=doverArgs()"
   ]
  },
  {
   "cell_type": "code",
   "execution_count": null,
   "id": "fbb203bb",
   "metadata": {
    "scrolled": true
   },
   "outputs": [
    {
     "name": "stdout",
     "output_type": "stream",
     "text": [
      "Setting backbone: technical_backbone\n",
      "Setting backbone: aesthetic_backbone\n",
      "Setting head: technical_head\n",
      "Setting head: aesthetic_head\n",
      "Dataset Length:  1040  files found.\n"
     ]
    },
    {
     "name": "stderr",
     "output_type": "stream",
     "text": [
      "Testing:   0%|          | 1/1040 [00:07<2:10:38,  7.54s/it]"
     ]
    }
   ],
   "source": [
    "# Run the DOVER pipeline\n",
    "results = dover.evaluate_videos(args)"
   ]
  },
  {
   "cell_type": "code",
   "execution_count": null,
   "id": "ca9f40aa",
   "metadata": {
    "scrolled": true
   },
   "outputs": [],
   "source": [
    "results.head()"
   ]
  }
 ],
 "metadata": {
  "kernelspec": {
   "display_name": "Python 3 (ipykernel)",
   "language": "python",
   "name": "python3"
  },
  "language_info": {
   "codemirror_mode": {
    "name": "ipython",
    "version": 3
   },
   "file_extension": ".py",
   "mimetype": "text/x-python",
   "name": "python",
   "nbconvert_exporter": "python",
   "pygments_lexer": "ipython3",
   "version": "3.9.7"
  }
 },
 "nbformat": 4,
 "nbformat_minor": 5
}
