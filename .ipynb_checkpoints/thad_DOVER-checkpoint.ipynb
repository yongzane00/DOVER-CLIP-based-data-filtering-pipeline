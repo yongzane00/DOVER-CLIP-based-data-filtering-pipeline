{
 "cells": [
  {
   "cell_type": "markdown",
   "id": "1a6cd210",
   "metadata": {},
   "source": [
    "# Test notebook to implement VQA method from https://github.com/VQAssessment/DOVER\n",
    "\n",
    "## Dependencies from DOVER:\n",
    "torch~=1.13\n",
    "torchvision\n",
    "opencv-python\n",
    "decord\n",
    "matplotlib\n",
    "scipy\n",
    "numpy\n",
    "tqdm\n",
    "timm\n",
    "einops\n",
    "wandb\n",
    "scikit-video\n",
    "thop==0.0.31-2005241907\n",
    "onnx\n",
    "argparse\n",
    "\n",
    "## Dependencies from my modified version:\n",
    "pandas"
   ]
  },
  {
   "cell_type": "code",
   "execution_count": 1,
   "id": "d2643dd4",
   "metadata": {},
   "outputs": [],
   "source": [
    "import argparse\n",
    "import dover_eval_thad as dover\n",
    "import pandas"
   ]
  },
  {
   "cell_type": "code",
   "execution_count": 2,
   "id": "b81ae1a8",
   "metadata": {},
   "outputs": [],
   "source": [
    "# Create a class to parse arguments into video quality assessment function\n",
    "# There's probably a smarter way to do this, but whatever\n",
    "# Trying to work with legacy code inherited from the DOVER library - was originally meant to be a CLI tool\n",
    "# But we gotta use Jupyter Notebook so it is what it is\n",
    "\n",
    "class doverArgs(argparse.Namespace):\n",
    "  opt = \".\\dependencies\\dover-mobile.yml\" # Relative path to the pre-trained model weights (using DOVER mobile because i'm weak af)\n",
    "  input_video_dir = \"..\\scenes\" # Relative path to downloaded clips (.mp4 format)\n",
    "  output_result_csv = \"..\\DOVER_pred_scores.csv\" # Relative path to save an output csv file with scores and URLs\n",
    "  device = \"cpu\" # Torch device used (CPU cuz again, laptop no processing power lol)\n",
    "\n",
    "args=doverArgs()"
   ]
  },
  {
   "cell_type": "code",
   "execution_count": 3,
   "id": "fbb203bb",
   "metadata": {
    "scrolled": true
   },
   "outputs": [
    {
     "name": "stdout",
     "output_type": "stream",
     "text": [
      "Setting backbone: technical_backbone\n",
      "Setting backbone: aesthetic_backbone\n",
      "Setting head: technical_head\n",
      "Setting head: aesthetic_head\n",
      "Dataset Length:  1040  files found.\n"
     ]
    },
    {
     "name": "stderr",
     "output_type": "stream",
     "text": [
      "Testing:   1%|          | 9/1040 [00:54<1:02:39,  3.65s/it]"
     ]
    },
    {
     "name": "stdout",
     "output_type": "stream",
     "text": [
      "Error #1 of 7 files in file: ..\\scenes\\gpAkjSy_8iY.3_3.mp4\n",
      "Error #1 of 8 files in file: ..\\scenes\\gpAkjSy_8iY.3_4.mp4\n"
     ]
    },
    {
     "name": "stderr",
     "output_type": "stream",
     "text": [
      "Testing:   2%|▏         | 21/1040 [02:15<1:07:00,  3.95s/it]"
     ]
    },
    {
     "name": "stdout",
     "output_type": "stream",
     "text": [
      "Error #1 of 19 files in file: ..\\scenes\\gpAkjSy_8iY.9_1.mp4\n",
      "Error #1 of 20 files in file: ..\\scenes\\gpB2FGY5Fuk.0_1.mp4\n",
      "Error #1 of 21 files in file: ..\\scenes\\gpB2FGY5Fuk.1_4.mp4\n"
     ]
    },
    {
     "name": "stderr",
     "output_type": "stream",
     "text": [
      "Testing:   2%|▏         | 24/1040 [02:15<28:29,  1.68s/it]  "
     ]
    },
    {
     "name": "stdout",
     "output_type": "stream",
     "text": [
      "Error #1 of 22 files in file: ..\\scenes\\gpB2FGY5Fuk.2_4.mp4\n",
      "Error #1 of 23 files in file: ..\\scenes\\gpB2FGY5Fuk.3_1.mp4\n"
     ]
    },
    {
     "name": "stderr",
     "output_type": "stream",
     "text": [
      "Testing:   2%|▎         | 26/1040 [02:15<16:10,  1.04it/s]"
     ]
    },
    {
     "name": "stdout",
     "output_type": "stream",
     "text": [
      "Error #1 of 24 files in file: ..\\scenes\\gpBBohls8kw.0_1.mp4\n",
      "Error #1 of 25 files in file: ..\\scenes\\gpBBohls8kw.2_2.mp4\n"
     ]
    },
    {
     "name": "stderr",
     "output_type": "stream",
     "text": [
      "Testing:   3%|▎         | 29/1040 [02:24<26:48,  1.59s/it]"
     ]
    },
    {
     "name": "stdout",
     "output_type": "stream",
     "text": [
      "Error #1 of 27 files in file: ..\\scenes\\gpBBohls8kw.2_4.mp4\n",
      "Error #1 of 28 files in file: ..\\scenes\\gpBBohls8kw.3_2.mp4\n"
     ]
    },
    {
     "name": "stderr",
     "output_type": "stream",
     "text": [
      "Testing:   3%|▎         | 31/1040 [02:24<14:28,  1.16it/s]"
     ]
    },
    {
     "name": "stdout",
     "output_type": "stream",
     "text": [
      "Error #1 of 29 files in file: ..\\scenes\\gpBBohls8kw.3_3.mp4\n",
      "Error #1 of 30 files in file: ..\\scenes\\gpBBohls8kw.3_4.mp4\n"
     ]
    },
    {
     "name": "stderr",
     "output_type": "stream",
     "text": [
      "\r",
      "Testing:   3%|▎         | 32/1040 [02:24<10:56,  1.53it/s]"
     ]
    },
    {
     "name": "stdout",
     "output_type": "stream",
     "text": [
      "Error #1 of 31 files in file: ..\\scenes\\gpBBohls8kw.4_2.mp4\n",
      "Error #1 of 32 files in file: ..\\scenes\\gpBBohls8kw.4_3.mp4\n"
     ]
    },
    {
     "name": "stderr",
     "output_type": "stream",
     "text": [
      "Testing:   3%|▎         | 35/1040 [02:25<05:54,  2.84it/s]"
     ]
    },
    {
     "name": "stdout",
     "output_type": "stream",
     "text": [
      "Error #1 of 33 files in file: ..\\scenes\\gpBBohls8kw.5_2.mp4\n",
      "Error #1 of 34 files in file: ..\\scenes\\gpBBohls8kw.5_3.mp4\n"
     ]
    },
    {
     "name": "stderr",
     "output_type": "stream",
     "text": [
      "Testing:   4%|▎         | 37/1040 [02:25<04:37,  3.61it/s]"
     ]
    },
    {
     "name": "stdout",
     "output_type": "stream",
     "text": [
      "Error #1 of 35 files in file: ..\\scenes\\gpBBohls8kw.5_4.mp4\n",
      "Error #1 of 36 files in file: ..\\scenes\\gpBBohls8kw.7_1.mp4\n"
     ]
    },
    {
     "name": "stderr",
     "output_type": "stream",
     "text": [
      "Testing:   4%|▍         | 39/1040 [02:25<03:24,  4.88it/s]"
     ]
    },
    {
     "name": "stdout",
     "output_type": "stream",
     "text": [
      "Error #1 of 37 files in file: ..\\scenes\\gpBNYu0siRk.11_2.mp4\n",
      "Error #1 of 38 files in file: ..\\scenes\\gpBNYu0siRk.12_1.mp4\n"
     ]
    },
    {
     "name": "stderr",
     "output_type": "stream",
     "text": [
      "Testing:   4%|▍         | 43/1040 [02:42<34:49,  2.10s/it]  "
     ]
    },
    {
     "name": "stdout",
     "output_type": "stream",
     "text": [
      "Error #1 of 41 files in file: ..\\scenes\\gpBNYu0siRk.15_1.mp4\n",
      "Error #1 of 42 files in file: ..\\scenes\\gpBNYu0siRk.18_1.mp4\n"
     ]
    },
    {
     "name": "stderr",
     "output_type": "stream",
     "text": [
      "Testing:   4%|▍         | 45/1040 [02:42<18:24,  1.11s/it]"
     ]
    },
    {
     "name": "stdout",
     "output_type": "stream",
     "text": [
      "Error #1 of 43 files in file: ..\\scenes\\gpBNYu0siRk.19_2.mp4\n",
      "Error #1 of 44 files in file: ..\\scenes\\gpBNYu0siRk.1_2.mp4\n"
     ]
    },
    {
     "name": "stderr",
     "output_type": "stream",
     "text": [
      "Testing:   5%|▍         | 47/1040 [02:42<10:18,  1.61it/s]"
     ]
    },
    {
     "name": "stdout",
     "output_type": "stream",
     "text": [
      "Error #1 of 45 files in file: ..\\scenes\\gpBNYu0siRk.20_1.mp4\n",
      "Error #1 of 46 files in file: ..\\scenes\\gpBNYu0siRk.21_1.mp4\n"
     ]
    },
    {
     "name": "stderr",
     "output_type": "stream",
     "text": [
      "\r",
      "Testing:   5%|▍         | 48/1040 [02:42<08:03,  2.05it/s]"
     ]
    },
    {
     "name": "stdout",
     "output_type": "stream",
     "text": [
      "Error #1 of 47 files in file: ..\\scenes\\gpBNYu0siRk.22_2.mp4\n"
     ]
    },
    {
     "name": "stderr",
     "output_type": "stream",
     "text": [
      "Testing:   5%|▍         | 51/1040 [02:50<22:25,  1.36s/it]"
     ]
    },
    {
     "name": "stdout",
     "output_type": "stream",
     "text": [
      "Error #1 of 49 files in file: ..\\scenes\\gpBNYu0siRk.2_6.mp4\n",
      "Error #1 of 50 files in file: ..\\scenes\\gpBNYu0siRk.3_4.mp4\n"
     ]
    },
    {
     "name": "stderr",
     "output_type": "stream",
     "text": [
      "Testing:   5%|▌         | 53/1040 [02:51<12:11,  1.35it/s]"
     ]
    },
    {
     "name": "stdout",
     "output_type": "stream",
     "text": [
      "Error #1 of 51 files in file: ..\\scenes\\gpBNYu0siRk.5_1.mp4\n",
      "Error #1 of 52 files in file: ..\\scenes\\gpBNYu0siRk.6_2.mp4\n"
     ]
    },
    {
     "name": "stderr",
     "output_type": "stream",
     "text": [
      "Testing:   5%|▌         | 55/1040 [02:51<06:58,  2.36it/s]"
     ]
    },
    {
     "name": "stdout",
     "output_type": "stream",
     "text": [
      "Error #1 of 53 files in file: ..\\scenes\\gpBNYu0siRk.7_2.mp4\n",
      "Error #1 of 54 files in file: ..\\scenes\\gpBNYu0siRk.8_1.mp4\n"
     ]
    },
    {
     "name": "stderr",
     "output_type": "stream",
     "text": [
      "Testing:   5%|▌         | 57/1040 [03:07<1:11:36,  4.37s/it]"
     ]
    },
    {
     "name": "stdout",
     "output_type": "stream",
     "text": [
      "Error #1 of 57 files in file: ..\\scenes\\gpBuYw_jCGs.1_4.mp4\n"
     ]
    },
    {
     "name": "stderr",
     "output_type": "stream",
     "text": [
      "Testing:   6%|▌         | 62/1040 [03:32<1:11:46,  4.40s/it]"
     ]
    },
    {
     "name": "stdout",
     "output_type": "stream",
     "text": [
      "Error #1 of 61 files in file: ..\\scenes\\gpBuYw_jCGs.4_1.mp4\n"
     ]
    },
    {
     "name": "stderr",
     "output_type": "stream",
     "text": [
      "Testing:   6%|▋         | 65/1040 [03:40<46:41,  2.87s/it]  "
     ]
    },
    {
     "name": "stdout",
     "output_type": "stream",
     "text": [
      "Error #1 of 63 files in file: ..\\scenes\\gpCmv2FAjow.1_2.mp4\n",
      "Error #1 of 64 files in file: ..\\scenes\\gpCmv2FAjow.3_1.mp4\n"
     ]
    },
    {
     "name": "stderr",
     "output_type": "stream",
     "text": [
      "\r",
      "Testing:   6%|▋         | 66/1040 [03:41<34:05,  2.10s/it]"
     ]
    },
    {
     "name": "stdout",
     "output_type": "stream",
     "text": [
      "Error #1 of 65 files in file: ..\\scenes\\gpCmv2FAjow.5_1.mp4\n"
     ]
    },
    {
     "name": "stderr",
     "output_type": "stream",
     "text": [
      "Testing:   7%|▋         | 68/1040 [03:41<18:18,  1.13s/it]"
     ]
    },
    {
     "name": "stdout",
     "output_type": "stream",
     "text": [
      "Error #1 of 66 files in file: ..\\scenes\\gpCmv2FAjow.5_2.mp4\n",
      "Error #1 of 67 files in file: ..\\scenes\\gpCmv2FAjow.6_1.mp4\n"
     ]
    },
    {
     "name": "stderr",
     "output_type": "stream",
     "text": [
      "Testing:   8%|▊         | 78/1040 [04:53<1:27:03,  5.43s/it]"
     ]
    },
    {
     "name": "stdout",
     "output_type": "stream",
     "text": [
      "Error #1 of 77 files in file: ..\\scenes\\gpDEeX3WYGs.0_2.mp4\n"
     ]
    },
    {
     "name": "stderr",
     "output_type": "stream",
     "text": [
      "Testing:   8%|▊         | 83/1040 [05:24<1:22:50,  5.19s/it]"
     ]
    },
    {
     "name": "stdout",
     "output_type": "stream",
     "text": [
      "Error #1 of 82 files in file: ..\\scenes\\gpDEeX3WYGs.11_3.mp4\n"
     ]
    },
    {
     "name": "stderr",
     "output_type": "stream",
     "text": [
      "Testing:   8%|▊         | 85/1040 [05:41<1:47:13,  6.74s/it]"
     ]
    },
    {
     "name": "stdout",
     "output_type": "stream",
     "text": [
      "Error #1 of 85 files in file: ..\\scenes\\gpDEeX3WYGs.12_4.mp4\n"
     ]
    },
    {
     "name": "stderr",
     "output_type": "stream",
     "text": [
      "Testing:   8%|▊         | 88/1040 [05:49<1:05:33,  4.13s/it]"
     ]
    },
    {
     "name": "stdout",
     "output_type": "stream",
     "text": [
      "Error #1 of 87 files in file: ..\\scenes\\gpDEeX3WYGs.14_2.mp4\n"
     ]
    },
    {
     "name": "stderr",
     "output_type": "stream",
     "text": [
      "Testing:   9%|▉         | 91/1040 [06:05<1:07:58,  4.30s/it]"
     ]
    },
    {
     "name": "stdout",
     "output_type": "stream",
     "text": [
      "Error #1 of 90 files in file: ..\\scenes\\gpDEeX3WYGs.16_1.mp4\n"
     ]
    },
    {
     "name": "stderr",
     "output_type": "stream",
     "text": [
      "\r",
      "Testing:   9%|▉         | 92/1040 [06:13<1:25:03,  5.38s/it]"
     ]
    },
    {
     "name": "stdout",
     "output_type": "stream",
     "text": [
      "Error #1 of 92 files in file: ..\\scenes\\gpDEeX3WYGs.16_3.mp4\n"
     ]
    },
    {
     "name": "stderr",
     "output_type": "stream",
     "text": [
      "Testing:  10%|▉         | 100/1040 [06:59<1:19:33,  5.08s/it]"
     ]
    },
    {
     "name": "stdout",
     "output_type": "stream",
     "text": [
      "Error #1 of 99 files in file: ..\\scenes\\gpDEeX3WYGs.17_4.mp4\n"
     ]
    },
    {
     "name": "stderr",
     "output_type": "stream",
     "text": [
      "Testing:  10%|▉         | 103/1040 [07:23<1:49:09,  6.99s/it]"
     ]
    },
    {
     "name": "stdout",
     "output_type": "stream",
     "text": [
      "Error #1 of 103 files in file: ..\\scenes\\gpDEeX3WYGs.19_2.mp4\n"
     ]
    },
    {
     "name": "stderr",
     "output_type": "stream",
     "text": [
      "Testing:  10%|█         | 107/1040 [07:31<53:10,  3.42s/it]  "
     ]
    },
    {
     "name": "stdout",
     "output_type": "stream",
     "text": [
      "Error #1 of 105 files in file: ..\\scenes\\gpDEeX3WYGs.1_5.mp4\n",
      "Error #1 of 106 files in file: ..\\scenes\\gpDEeX3WYGs.1_6.mp4\n"
     ]
    },
    {
     "name": "stderr",
     "output_type": "stream",
     "text": [
      "Testing:  11%|█         | 110/1040 [07:47<1:00:26,  3.90s/it]"
     ]
    },
    {
     "name": "stdout",
     "output_type": "stream",
     "text": [
      "Error #1 of 109 files in file: ..\\scenes\\gpDEeX3WYGs.20_3.mp4\n"
     ]
    },
    {
     "name": "stderr",
     "output_type": "stream",
     "text": [
      "Testing:  11%|█         | 115/1040 [08:18<1:14:08,  4.81s/it]"
     ]
    },
    {
     "name": "stdout",
     "output_type": "stream",
     "text": [
      "Error #1 of 114 files in file: ..\\scenes\\gpDEeX3WYGs.2_2.mp4\n"
     ]
    },
    {
     "name": "stderr",
     "output_type": "stream",
     "text": [
      "\r",
      "Testing:  11%|█         | 116/1040 [08:26<1:27:34,  5.69s/it]"
     ]
    },
    {
     "name": "stdout",
     "output_type": "stream",
     "text": [
      "Error #1 of 116 files in file: ..\\scenes\\gpDEeX3WYGs.3_10.mp4\n"
     ]
    },
    {
     "name": "stderr",
     "output_type": "stream",
     "text": [
      "Testing:  12%|█▏        | 123/1040 [08:56<55:34,  3.64s/it]  "
     ]
    },
    {
     "name": "stdout",
     "output_type": "stream",
     "text": [
      "Error #1 of 121 files in file: ..\\scenes\\gpDEeX3WYGs.3_5.mp4\n",
      "Error #1 of 122 files in file: ..\\scenes\\gpDEeX3WYGs.3_7.mp4\n",
      "Error #1 of 123 files in file: ..\\scenes\\gpDEeX3WYGs.3_8.mp4\n"
     ]
    },
    {
     "name": "stderr",
     "output_type": "stream",
     "text": [
      "Testing:  12%|█▏        | 129/1040 [09:27<1:06:09,  4.36s/it]"
     ]
    },
    {
     "name": "stdout",
     "output_type": "stream",
     "text": [
      "Error #1 of 128 files in file: ..\\scenes\\gpDEeX3WYGs.4_7.mp4\n"
     ]
    },
    {
     "name": "stderr",
     "output_type": "stream",
     "text": [
      "Testing:  13%|█▎        | 131/1040 [09:35<58:04,  3.83s/it]  "
     ]
    },
    {
     "name": "stdout",
     "output_type": "stream",
     "text": [
      "Error #1 of 130 files in file: ..\\scenes\\gpDEeX3WYGs.5_4.mp4\n"
     ]
    },
    {
     "name": "stderr",
     "output_type": "stream",
     "text": [
      "Testing:  13%|█▎        | 134/1040 [09:51<1:02:03,  4.11s/it]"
     ]
    },
    {
     "name": "stdout",
     "output_type": "stream",
     "text": [
      "Error #1 of 133 files in file: ..\\scenes\\gpDEeX3WYGs.6_4.mp4\n"
     ]
    },
    {
     "name": "stderr",
     "output_type": "stream",
     "text": [
      "Testing:  15%|█▍        | 154/1040 [12:15<1:19:48,  5.40s/it]"
     ]
    },
    {
     "name": "stdout",
     "output_type": "stream",
     "text": [
      "Error #1 of 153 files in file: ..\\scenes\\gpDeSiQ2dtg.15_2.mp4\n"
     ]
    },
    {
     "name": "stderr",
     "output_type": "stream",
     "text": [
      "Testing:  15%|█▌        | 158/1040 [12:30<52:22,  3.56s/it]  "
     ]
    },
    {
     "name": "stdout",
     "output_type": "stream",
     "text": [
      "Error #1 of 156 files in file: ..\\scenes\\gpDeSiQ2dtg.6_3.mp4\n",
      "Error #1 of 157 files in file: ..\\scenes\\gpDeSiQ2dtg.6_4.mp4\n"
     ]
    },
    {
     "name": "stderr",
     "output_type": "stream",
     "text": [
      "Testing:  15%|█▌        | 160/1040 [12:46<1:18:00,  5.32s/it]"
     ]
    },
    {
     "name": "stdout",
     "output_type": "stream",
     "text": [
      "Error #1 of 160 files in file: ..\\scenes\\gpDeSiQ2dtg.6_7.mp4\n"
     ]
    },
    {
     "name": "stderr",
     "output_type": "stream",
     "text": [
      "Testing:  16%|█▌        | 163/1040 [12:53<52:47,  3.61s/it]  "
     ]
    },
    {
     "name": "stdout",
     "output_type": "stream",
     "text": [
      "Error #1 of 162 files in file: ..\\scenes\\gpDeSiQ2dtg.8_1.mp4\n"
     ]
    },
    {
     "name": "stderr",
     "output_type": "stream",
     "text": [
      "\r",
      "Testing:  16%|█▌        | 164/1040 [13:01<1:06:46,  4.57s/it]"
     ]
    },
    {
     "name": "stdout",
     "output_type": "stream",
     "text": [
      "Error #1 of 164 files in file: ..\\scenes\\gpEbVJSoQDM.29_1.mp4\n"
     ]
    },
    {
     "name": "stderr",
     "output_type": "stream",
     "text": [
      "Testing:  16%|█▌        | 167/1040 [13:08<48:14,  3.32s/it]  "
     ]
    },
    {
     "name": "stdout",
     "output_type": "stream",
     "text": [
      "Error #1 of 166 files in file: ..\\scenes\\gpEz7bgZwHI.31_1.mp4\n"
     ]
    },
    {
     "name": "stderr",
     "output_type": "stream",
     "text": [
      "Testing:  17%|█▋        | 177/1040 [14:18<1:15:54,  5.28s/it]"
     ]
    },
    {
     "name": "stdout",
     "output_type": "stream",
     "text": [
      "Error #1 of 176 files in file: ..\\scenes\\gpFGexIP-Tg.15_2.mp4\n"
     ]
    },
    {
     "name": "stderr",
     "output_type": "stream",
     "text": [
      "Testing:  18%|█▊        | 182/1040 [14:49<1:13:22,  5.13s/it]"
     ]
    },
    {
     "name": "stdout",
     "output_type": "stream",
     "text": [
      "Error #1 of 181 files in file: ..\\scenes\\gpFGexIP-Tg.20_2.mp4\n"
     ]
    },
    {
     "name": "stderr",
     "output_type": "stream",
     "text": [
      "Testing:  18%|█▊        | 185/1040 [14:50<28:47,  2.02s/it]  "
     ]
    },
    {
     "name": "stdout",
     "output_type": "stream",
     "text": [
      "Error #1 of 182 files in file: ..\\scenes\\gpFGexIP-Tg.8_1.mp4\n",
      "Error #1 of 183 files in file: ..\\scenes\\gpFRS5q6FiI.15_1.mp4\n",
      "Error #1 of 184 files in file: ..\\scenes\\gpFRS5q6FiI.16_1.mp4\n"
     ]
    },
    {
     "name": "stderr",
     "output_type": "stream",
     "text": [
      "Testing:  18%|█▊        | 187/1040 [14:57<35:51,  2.52s/it]"
     ]
    },
    {
     "name": "stdout",
     "output_type": "stream",
     "text": [
      "Error #1 of 186 files in file: ..\\scenes\\gpFRS5q6FiI.19_2.mp4\n"
     ]
    },
    {
     "name": "stderr",
     "output_type": "stream",
     "text": [
      "Testing:  18%|█▊        | 190/1040 [15:05<31:34,  2.23s/it]"
     ]
    },
    {
     "name": "stdout",
     "output_type": "stream",
     "text": [
      "Error #1 of 188 files in file: ..\\scenes\\gpFRS5q6FiI.1_2.mp4\n",
      "Error #1 of 189 files in file: ..\\scenes\\gpFRS5q6FiI.1_3.mp4\n"
     ]
    },
    {
     "name": "stderr",
     "output_type": "stream",
     "text": [
      "\r",
      "Testing:  18%|█▊        | 191/1040 [15:05<24:34,  1.74s/it]"
     ]
    },
    {
     "name": "stdout",
     "output_type": "stream",
     "text": [
      "Error #1 of 190 files in file: ..\\scenes\\gpFRS5q6FiI.22_1.mp4\n",
      "Error #1 of 191 files in file: ..\\scenes\\gpFRS5q6FiI.24_1.mp4\n"
     ]
    },
    {
     "name": "stderr",
     "output_type": "stream",
     "text": [
      "\r",
      "Testing:  19%|█▊        | 193/1040 [15:13<36:22,  2.58s/it]"
     ]
    },
    {
     "name": "stdout",
     "output_type": "stream",
     "text": [
      "Error #1 of 193 files in file: ..\\scenes\\gpFRS5q6FiI.6_1.mp4\n"
     ]
    },
    {
     "name": "stderr",
     "output_type": "stream",
     "text": [
      "\r",
      "Testing:  19%|█▉        | 195/1040 [15:21<43:08,  3.06s/it]"
     ]
    },
    {
     "name": "stdout",
     "output_type": "stream",
     "text": [
      "Error #1 of 195 files in file: ..\\scenes\\gpFRS5q6FiI.9_1.mp4\n"
     ]
    },
    {
     "name": "stderr",
     "output_type": "stream",
     "text": [
      "Testing:  19%|█▉        | 199/1040 [15:36<46:17,  3.30s/it]"
     ]
    },
    {
     "name": "stdout",
     "output_type": "stream",
     "text": [
      "Error #1 of 198 files in file: ..\\scenes\\gpFet_Neuz8.3_2.mp4\n"
     ]
    },
    {
     "name": "stderr",
     "output_type": "stream",
     "text": [
      "Testing:  20%|█▉        | 203/1040 [16:00<1:00:08,  4.31s/it]"
     ]
    },
    {
     "name": "stdout",
     "output_type": "stream",
     "text": [
      "Error #1 of 202 files in file: ..\\scenes\\gpFet_Neuz8.4_3.mp4\n"
     ]
    },
    {
     "name": "stderr",
     "output_type": "stream",
     "text": [
      "Testing:  20%|█▉        | 206/1040 [16:00<24:40,  1.77s/it]  "
     ]
    },
    {
     "name": "stdout",
     "output_type": "stream",
     "text": [
      "Error #1 of 203 files in file: ..\\scenes\\gpFet_Neuz8.4_4.mp4\n",
      "Error #1 of 204 files in file: ..\\scenes\\gpFet_Neuz8.4_5.mp4\n",
      "Error #1 of 205 files in file: ..\\scenes\\gpFet_Neuz8.4_7.mp4\n",
      "Error #1 of 206 files in file: ..\\scenes\\gpFet_Neuz8.4_9.mp4\n"
     ]
    },
    {
     "name": "stderr",
     "output_type": "stream",
     "text": [
      "\r",
      "Testing:  20%|██        | 208/1040 [16:08<35:40,  2.57s/it]"
     ]
    },
    {
     "name": "stdout",
     "output_type": "stream",
     "text": [
      "Error #1 of 208 files in file: ..\\scenes\\gpFet_Neuz8.5_3.mp4\n"
     ]
    },
    {
     "name": "stderr",
     "output_type": "stream",
     "text": [
      "Testing:  20%|██        | 212/1040 [16:16<26:36,  1.93s/it]"
     ]
    },
    {
     "name": "stdout",
     "output_type": "stream",
     "text": [
      "Error #1 of 210 files in file: ..\\scenes\\gpFet_Neuz8.5_5.mp4\n",
      "Error #1 of 211 files in file: ..\\scenes\\gpFet_Neuz8.5_6.mp4\n"
     ]
    },
    {
     "name": "stderr",
     "output_type": "stream",
     "text": [
      "\r",
      "Testing:  20%|██        | 213/1040 [16:16<20:37,  1.50s/it]"
     ]
    },
    {
     "name": "stdout",
     "output_type": "stream",
     "text": [
      "Error #1 of 212 files in file: ..\\scenes\\gpFet_Neuz8.5_8.mp4\n"
     ]
    },
    {
     "name": "stderr",
     "output_type": "stream",
     "text": [
      "Testing:  21%|██        | 215/1040 [16:16<12:31,  1.10it/s]"
     ]
    },
    {
     "name": "stdout",
     "output_type": "stream",
     "text": [
      "Error #1 of 213 files in file: ..\\scenes\\gpFet_Neuz8.5_9.mp4\n",
      "Error #1 of 214 files in file: ..\\scenes\\gpFet_Neuz8.6_2.mp4\n"
     ]
    },
    {
     "name": "stderr",
     "output_type": "stream",
     "text": [
      "Testing:  21%|██        | 217/1040 [16:17<07:16,  1.88it/s]"
     ]
    },
    {
     "name": "stdout",
     "output_type": "stream",
     "text": [
      "Error #1 of 215 files in file: ..\\scenes\\gpFet_Neuz8.7_2.mp4\n",
      "Error #1 of 216 files in file: ..\\scenes\\gpFet_Neuz8.7_3.mp4\n"
     ]
    },
    {
     "name": "stderr",
     "output_type": "stream",
     "text": [
      "\r",
      "Testing:  21%|██        | 218/1040 [16:17<05:38,  2.43it/s]"
     ]
    },
    {
     "name": "stdout",
     "output_type": "stream",
     "text": [
      "Error #1 of 217 files in file: ..\\scenes\\gpFet_Neuz8.7_4.mp4\n"
     ]
    },
    {
     "name": "stderr",
     "output_type": "stream",
     "text": [
      "\r",
      "Testing:  21%|██        | 219/1040 [16:17<04:59,  2.75it/s]"
     ]
    },
    {
     "name": "stdout",
     "output_type": "stream",
     "text": [
      "Error #1 of 218 files in file: ..\\scenes\\gpFet_Neuz8.7_5.mp4\n"
     ]
    },
    {
     "name": "stderr",
     "output_type": "stream",
     "text": [
      "Testing:  21%|██▏       | 222/1040 [16:40<1:08:39,  5.04s/it]"
     ]
    },
    {
     "name": "stdout",
     "output_type": "stream",
     "text": [
      "Error #1 of 222 files in file: ..\\scenes\\gpGL_YTxYv4.10_2.mp4\n"
     ]
    },
    {
     "name": "stderr",
     "output_type": "stream",
     "text": [
      "\r",
      "Testing:  22%|██▏       | 224/1040 [16:47<1:01:29,  4.52s/it]"
     ]
    },
    {
     "name": "stdout",
     "output_type": "stream",
     "text": [
      "Error #1 of 224 files in file: ..\\scenes\\gpGL_YTxYv4.11_2.mp4\n"
     ]
    },
    {
     "name": "stderr",
     "output_type": "stream",
     "text": [
      "Testing:  23%|██▎       | 235/1040 [18:03<1:38:17,  7.33s/it]"
     ]
    },
    {
     "name": "stdout",
     "output_type": "stream",
     "text": [
      "Error #1 of 235 files in file: ..\\scenes\\gpGL_YTxYv4.2_4.mp4\n"
     ]
    },
    {
     "name": "stderr",
     "output_type": "stream",
     "text": [
      "Testing:  24%|██▍       | 250/1040 [19:34<53:34,  4.07s/it]  "
     ]
    },
    {
     "name": "stdout",
     "output_type": "stream",
     "text": [
      "Error #1 of 248 files in file: ..\\scenes\\gpGL_YTxYv4.8_3.mp4\n",
      "Error #1 of 249 files in file: ..\\scenes\\gpGL_YTxYv4.8_4.mp4\n"
     ]
    },
    {
     "name": "stderr",
     "output_type": "stream",
     "text": [
      "Testing:  24%|██▍       | 254/1040 [19:57<59:03,  4.51s/it]  "
     ]
    },
    {
     "name": "stdout",
     "output_type": "stream",
     "text": [
      "Error #1 of 253 files in file: ..\\scenes\\gpGkEeBRTwc.1_1.mp4\n"
     ]
    },
    {
     "name": "stderr",
     "output_type": "stream",
     "text": [
      "Testing:  25%|██▍       | 258/1040 [20:20<1:01:51,  4.75s/it]"
     ]
    },
    {
     "name": "stdout",
     "output_type": "stream",
     "text": [
      "Error #1 of 257 files in file: ..\\scenes\\gpH0BRXBOKQ.30_2.mp4\n"
     ]
    },
    {
     "name": "stderr",
     "output_type": "stream",
     "text": [
      "Testing:  25%|██▌       | 263/1040 [20:51<1:04:10,  4.96s/it]"
     ]
    },
    {
     "name": "stdout",
     "output_type": "stream",
     "text": [
      "Error #1 of 262 files in file: ..\\scenes\\gpHTyYrSxuQ.129_1.mp4\n"
     ]
    },
    {
     "name": "stderr",
     "output_type": "stream",
     "text": [
      "Testing:  25%|██▌       | 265/1040 [20:59<52:35,  4.07s/it]  "
     ]
    },
    {
     "name": "stdout",
     "output_type": "stream",
     "text": [
      "Error #1 of 264 files in file: ..\\scenes\\gpHTyYrSxuQ.228_1.mp4\n"
     ]
    },
    {
     "name": "stderr",
     "output_type": "stream",
     "text": [
      "\r",
      "Testing:  26%|██▌       | 266/1040 [20:59<37:52,  2.94s/it]"
     ]
    },
    {
     "name": "stdout",
     "output_type": "stream",
     "text": [
      "Error #1 of 265 files in file: ..\\scenes\\gpHTyYrSxuQ.429_1.mp4\n"
     ]
    },
    {
     "name": "stderr",
     "output_type": "stream",
     "text": [
      "Testing:  26%|██▌       | 268/1040 [21:07<39:56,  3.10s/it]"
     ]
    },
    {
     "name": "stdout",
     "output_type": "stream",
     "text": [
      "Error #1 of 267 files in file: ..\\scenes\\gpHuewcCOCY.40_1.mp4\n"
     ]
    },
    {
     "name": "stderr",
     "output_type": "stream",
     "text": [
      "\r",
      "Testing:  26%|██▌       | 269/1040 [21:07<29:06,  2.27s/it]"
     ]
    },
    {
     "name": "stdout",
     "output_type": "stream",
     "text": [
      "Error #1 of 268 files in file: ..\\scenes\\gpHuewcCOCY.51_1.mp4\n"
     ]
    },
    {
     "name": "stderr",
     "output_type": "stream",
     "text": [
      "\r",
      "Testing:  26%|██▌       | 270/1040 [21:08<21:13,  1.65s/it]"
     ]
    },
    {
     "name": "stdout",
     "output_type": "stream",
     "text": [
      "Error #1 of 269 files in file: ..\\scenes\\gpHuewcCOCY.61_1.mp4\n"
     ]
    },
    {
     "name": "stderr",
     "output_type": "stream",
     "text": [
      "Testing:  26%|██▋       | 275/1040 [21:39<57:40,  4.52s/it]  "
     ]
    },
    {
     "name": "stdout",
     "output_type": "stream",
     "text": [
      "Error #1 of 274 files in file: ..\\scenes\\gpIevrbaBho.26_1.mp4\n"
     ]
    },
    {
     "name": "stderr",
     "output_type": "stream",
     "text": [
      "Testing:  27%|██▋       | 277/1040 [21:47<49:54,  3.93s/it]  "
     ]
    },
    {
     "name": "stdout",
     "output_type": "stream",
     "text": [
      "Error #1 of 276 files in file: ..\\scenes\\gpIevrbaBho.50_1.mp4\n"
     ]
    },
    {
     "name": "stderr",
     "output_type": "stream",
     "text": [
      "Testing:  27%|██▋       | 282/1040 [22:10<39:52,  3.16s/it]  "
     ]
    },
    {
     "name": "stdout",
     "output_type": "stream",
     "text": [
      "Error #1 of 280 files in file: ..\\scenes\\gpJSFFktHbs.10_6.mp4\n",
      "Error #1 of 281 files in file: ..\\scenes\\gpJSFFktHbs.11_2.mp4\n"
     ]
    },
    {
     "name": "stderr",
     "output_type": "stream",
     "text": [
      "\r",
      "Testing:  27%|██▋       | 284/1040 [22:10<22:09,  1.76s/it]"
     ]
    },
    {
     "name": "stdout",
     "output_type": "stream",
     "text": [
      "Error #1 of 282 files in file: ..\\scenes\\gpJSFFktHbs.12_4.mp4\n",
      "Error #1 of 283 files in file: ..\\scenes\\gpJSFFktHbs.12_5.mp4\n",
      "Error #1 of 284 files in file: ..\\scenes\\gpJSFFktHbs.13_1.mp4\n"
     ]
    },
    {
     "name": "stderr",
     "output_type": "stream",
     "text": [
      "\r",
      "Testing:  28%|██▊       | 286/1040 [22:18<31:58,  2.54s/it]"
     ]
    },
    {
     "name": "stdout",
     "output_type": "stream",
     "text": [
      "Error #1 of 286 files in file: ..\\scenes\\gpJSFFktHbs.15_5.mp4\n"
     ]
    },
    {
     "name": "stderr",
     "output_type": "stream",
     "text": [
      "Testing:  28%|██▊       | 291/1040 [22:33<29:08,  2.33s/it]"
     ]
    },
    {
     "name": "stdout",
     "output_type": "stream",
     "text": [
      "Error #1 of 289 files in file: ..\\scenes\\gpJSFFktHbs.17_4.mp4\n",
      "Error #1 of 290 files in file: ..\\scenes\\gpJSFFktHbs.18_2.mp4\n",
      "Error #1 of 291 files in file: ..\\scenes\\gpJSFFktHbs.18_3.mp4\n"
     ]
    },
    {
     "name": "stderr",
     "output_type": "stream",
     "text": [
      "\r",
      "Testing:  28%|██▊       | 293/1040 [22:33<17:36,  1.41s/it]"
     ]
    },
    {
     "name": "stdout",
     "output_type": "stream",
     "text": [
      "Error #1 of 292 files in file: ..\\scenes\\gpJSFFktHbs.19_3.mp4\n"
     ]
    },
    {
     "name": "stderr",
     "output_type": "stream",
     "text": [
      "Testing:  28%|██▊       | 296/1040 [22:41<20:17,  1.64s/it]"
     ]
    },
    {
     "name": "stdout",
     "output_type": "stream",
     "text": [
      "Error #1 of 294 files in file: ..\\scenes\\gpJSFFktHbs.33_1.mp4\n",
      "Error #1 of 295 files in file: ..\\scenes\\gpJSFFktHbs.3_4.mp4\n"
     ]
    },
    {
     "name": "stderr",
     "output_type": "stream",
     "text": [
      "Testing:  29%|██▊       | 298/1040 [22:41<11:18,  1.09it/s]"
     ]
    },
    {
     "name": "stdout",
     "output_type": "stream",
     "text": [
      "Error #1 of 296 files in file: ..\\scenes\\gpJSFFktHbs.5_1.mp4\n",
      "Error #1 of 297 files in file: ..\\scenes\\gpJSFFktHbs.6_1.mp4\n",
      "Error #1 of 298 files in file: ..\\scenes\\gpJSFFktHbs.6_2.mp4\n"
     ]
    },
    {
     "name": "stderr",
     "output_type": "stream",
     "text": [
      "\r",
      "Testing:  29%|██▉       | 300/1040 [22:42<06:36,  1.87it/s]"
     ]
    },
    {
     "name": "stdout",
     "output_type": "stream",
     "text": [
      "Error #1 of 299 files in file: ..\\scenes\\gpJSFFktHbs.7_6.mp4\n",
      "Error #1 of 300 files in file: ..\\scenes\\gpJSFFktHbs.7_7.mp4\n"
     ]
    },
    {
     "name": "stderr",
     "output_type": "stream",
     "text": [
      "Testing:  30%|██▉       | 307/1040 [23:20<51:00,  4.18s/it]  "
     ]
    },
    {
     "name": "stdout",
     "output_type": "stream",
     "text": [
      "Error #1 of 306 files in file: ..\\scenes\\gpJhTMFMSTg.16_1.mp4\n"
     ]
    },
    {
     "name": "stderr",
     "output_type": "stream",
     "text": [
      "Testing:  30%|██▉       | 311/1040 [23:43<55:44,  4.59s/it]  "
     ]
    },
    {
     "name": "stdout",
     "output_type": "stream",
     "text": [
      "Error #1 of 310 files in file: ..\\scenes\\gpJhTMFMSTg.20_2.mp4\n"
     ]
    },
    {
     "name": "stderr",
     "output_type": "stream",
     "text": [
      "Testing:  30%|███       | 316/1040 [24:21<1:25:32,  7.09s/it]"
     ]
    },
    {
     "name": "stdout",
     "output_type": "stream",
     "text": [
      "Error #1 of 316 files in file: ..\\scenes\\gpJhTMFMSTg.4_4.mp4\n"
     ]
    },
    {
     "name": "stderr",
     "output_type": "stream",
     "text": [
      "Testing:  32%|███▏      | 329/1040 [25:38<49:12,  4.15s/it]  "
     ]
    },
    {
     "name": "stdout",
     "output_type": "stream",
     "text": [
      "Error #1 of 327 files in file: ..\\scenes\\gpJwaVbhXX8.32_2.mp4\n",
      "Error #1 of 328 files in file: ..\\scenes\\gpJwaVbhXX8.32_3.mp4\n"
     ]
    },
    {
     "name": "stderr",
     "output_type": "stream",
     "text": [
      "Testing:  32%|███▏      | 332/1040 [25:46<35:44,  3.03s/it]  "
     ]
    },
    {
     "name": "stdout",
     "output_type": "stream",
     "text": [
      "Error #1 of 330 files in file: ..\\scenes\\gpJwaVbhXX8.50_1.mp4\n",
      "Error #1 of 331 files in file: ..\\scenes\\gpJwaVbhXX8.50_2.mp4\n"
     ]
    },
    {
     "name": "stderr",
     "output_type": "stream",
     "text": [
      "Testing:  32%|███▏      | 334/1040 [25:46<21:19,  1.81s/it]"
     ]
    },
    {
     "name": "stdout",
     "output_type": "stream",
     "text": [
      "Error #1 of 332 files in file: ..\\scenes\\gpKUptHp8zg.0_5.mp4\n",
      "Error #1 of 333 files in file: ..\\scenes\\gpKUptHp8zg.0_6.mp4\n"
     ]
    },
    {
     "name": "stderr",
     "output_type": "stream",
     "text": [
      "Testing:  32%|███▏      | 337/1040 [25:46<09:38,  1.22it/s]"
     ]
    },
    {
     "name": "stdout",
     "output_type": "stream",
     "text": [
      "Error #1 of 334 files in file: ..\\scenes\\gpKUptHp8zg.0_7.mp4\n",
      "Error #1 of 335 files in file: ..\\scenes\\gpKUptHp8zg.0_8.mp4\n",
      "Error #1 of 336 files in file: ..\\scenes\\gpKUptHp8zg.1_11.mp4\n",
      "Error #1 of 337 files in file: ..\\scenes\\gpKUptHp8zg.1_13.mp4\n"
     ]
    },
    {
     "name": "stderr",
     "output_type": "stream",
     "text": [
      "Testing:  33%|███▎      | 341/1040 [25:54<14:58,  1.29s/it]"
     ]
    },
    {
     "name": "stdout",
     "output_type": "stream",
     "text": [
      "Error #1 of 339 files in file: ..\\scenes\\gpKUptHp8zg.1_23.mp4\n",
      "Error #1 of 340 files in file: ..\\scenes\\gpKUptHp8zg.2_4.mp4\n",
      "Error #1 of 341 files in file: ..\\scenes\\gpKUptHp8zg.2_5.mp4\n"
     ]
    },
    {
     "name": "stderr",
     "output_type": "stream",
     "text": [
      "Testing:  33%|███▎      | 347/1040 [26:10<18:37,  1.61s/it]"
     ]
    },
    {
     "name": "stdout",
     "output_type": "stream",
     "text": [
      "Error #1 of 344 files in file: ..\\scenes\\gpKUptHp8zg.2_8.mp4\n",
      "Error #1 of 345 files in file: ..\\scenes\\gpKUptHp8zg.3_4.mp4\n",
      "Error #1 of 346 files in file: ..\\scenes\\gpKUptHp8zg.3_5.mp4\n"
     ]
    },
    {
     "name": "stderr",
     "output_type": "stream",
     "text": [
      "Testing:  34%|███▎      | 350/1040 [26:10<09:34,  1.20it/s]"
     ]
    },
    {
     "name": "stdout",
     "output_type": "stream",
     "text": [
      "Error #1 of 347 files in file: ..\\scenes\\gpKUptHp8zg.4_11.mp4\n",
      "Error #1 of 348 files in file: ..\\scenes\\gpKUptHp8zg.4_16.mp4\n",
      "Error #1 of 349 files in file: ..\\scenes\\gpKUptHp8zg.4_3.mp4\n"
     ]
    },
    {
     "name": "stderr",
     "output_type": "stream",
     "text": [
      "\r",
      "Testing:  34%|███▍      | 351/1040 [26:10<07:49,  1.47it/s]"
     ]
    },
    {
     "name": "stdout",
     "output_type": "stream",
     "text": [
      "Error #1 of 350 files in file: ..\\scenes\\gpKUptHp8zg.4_4.mp4\n",
      "Error #1 of 351 files in file: ..\\scenes\\gpKUptHp8zg.4_5.mp4\n"
     ]
    },
    {
     "name": "stderr",
     "output_type": "stream",
     "text": [
      "Testing:  34%|███▍      | 356/1040 [26:26<21:33,  1.89s/it]"
     ]
    },
    {
     "name": "stdout",
     "output_type": "stream",
     "text": [
      "Error #1 of 354 files in file: ..\\scenes\\gpKyHy7ZOtM.24_1.mp4\n",
      "Error #1 of 355 files in file: ..\\scenes\\gpKyHy7ZOtM.2_1.mp4\n"
     ]
    },
    {
     "name": "stderr",
     "output_type": "stream",
     "text": [
      "Testing:  35%|███▍      | 359/1040 [26:41<37:37,  3.32s/it]"
     ]
    },
    {
     "name": "stdout",
     "output_type": "stream",
     "text": [
      "Error #1 of 358 files in file: ..\\scenes\\gpL3rQQ7KCs.6_1.mp4\n"
     ]
    },
    {
     "name": "stderr",
     "output_type": "stream",
     "text": [
      "Testing:  35%|███▌      | 365/1040 [27:20<54:54,  4.88s/it]  "
     ]
    },
    {
     "name": "stdout",
     "output_type": "stream",
     "text": [
      "Error #1 of 364 files in file: ..\\scenes\\gpLGYs_fQwY.12_1.mp4\n"
     ]
    },
    {
     "name": "stderr",
     "output_type": "stream",
     "text": [
      "\r",
      "Testing:  35%|███▌      | 366/1040 [27:20<39:24,  3.51s/it]"
     ]
    },
    {
     "name": "stdout",
     "output_type": "stream",
     "text": [
      "Error #1 of 365 files in file: ..\\scenes\\gpLGYs_fQwY.12_2.mp4\n"
     ]
    },
    {
     "name": "stderr",
     "output_type": "stream",
     "text": [
      "Testing:  36%|███▌      | 370/1040 [27:44<50:58,  4.57s/it]  "
     ]
    },
    {
     "name": "stdout",
     "output_type": "stream",
     "text": [
      "Error #1 of 369 files in file: ..\\scenes\\gpLGYs_fQwY.14_1.mp4\n"
     ]
    },
    {
     "name": "stderr",
     "output_type": "stream",
     "text": [
      "Testing:  36%|███▌      | 372/1040 [27:52<43:57,  3.95s/it]  "
     ]
    },
    {
     "name": "stdout",
     "output_type": "stream",
     "text": [
      "Error #1 of 371 files in file: ..\\scenes\\gpLGYs_fQwY.15_2.mp4\n"
     ]
    },
    {
     "name": "stderr",
     "output_type": "stream",
     "text": [
      "Testing:  36%|███▌      | 375/1040 [28:08<46:36,  4.21s/it]  "
     ]
    },
    {
     "name": "stdout",
     "output_type": "stream",
     "text": [
      "Error #1 of 374 files in file: ..\\scenes\\gpLGYs_fQwY.1_1.mp4\n"
     ]
    },
    {
     "name": "stderr",
     "output_type": "stream",
     "text": [
      "Testing:  36%|███▋      | 378/1040 [28:24<47:49,  4.33s/it]  "
     ]
    },
    {
     "name": "stdout",
     "output_type": "stream",
     "text": [
      "Error #1 of 377 files in file: ..\\scenes\\gpLGYs_fQwY.3_2.mp4\n"
     ]
    },
    {
     "name": "stderr",
     "output_type": "stream",
     "text": [
      "\r",
      "Testing:  36%|███▋      | 379/1040 [28:32<1:00:26,  5.49s/it]"
     ]
    },
    {
     "name": "stdout",
     "output_type": "stream",
     "text": [
      "Error #1 of 379 files in file: ..\\scenes\\gpLGYs_fQwY.4_1.mp4\n"
     ]
    },
    {
     "name": "stderr",
     "output_type": "stream",
     "text": [
      "Testing:  37%|███▋      | 382/1040 [28:40<39:34,  3.61s/it]  "
     ]
    },
    {
     "name": "stdout",
     "output_type": "stream",
     "text": [
      "Error #1 of 381 files in file: ..\\scenes\\gpLGYs_fQwY.6_1.mp4\n"
     ]
    },
    {
     "name": "stderr",
     "output_type": "stream",
     "text": [
      "Testing:  37%|███▋      | 384/1040 [28:48<38:14,  3.50s/it]"
     ]
    },
    {
     "name": "stdout",
     "output_type": "stream",
     "text": [
      "Error #1 of 383 files in file: ..\\scenes\\gpLGYs_fQwY.8_1.mp4\n"
     ]
    },
    {
     "name": "stderr",
     "output_type": "stream",
     "text": [
      "Testing:  37%|███▋      | 388/1040 [29:04<31:56,  2.94s/it]  "
     ]
    },
    {
     "name": "stdout",
     "output_type": "stream",
     "text": [
      "Error #1 of 386 files in file: ..\\scenes\\gpMneFELl7I.44_1.mp4\n",
      "Error #1 of 387 files in file: ..\\scenes\\gpNVVhDVN1g.10_2.mp4\n"
     ]
    },
    {
     "name": "stderr",
     "output_type": "stream",
     "text": [
      "Testing:  38%|███▊      | 391/1040 [29:20<41:16,  3.82s/it]"
     ]
    },
    {
     "name": "stdout",
     "output_type": "stream",
     "text": [
      "Error #1 of 390 files in file: ..\\scenes\\gpNVVhDVN1g.16_1.mp4\n"
     ]
    },
    {
     "name": "stderr",
     "output_type": "stream",
     "text": [
      "Testing:  39%|███▊      | 401/1040 [30:31<57:22,  5.39s/it]  "
     ]
    },
    {
     "name": "stdout",
     "output_type": "stream",
     "text": [
      "Error #1 of 400 files in file: ..\\scenes\\gpOuBQbXUWs.14_1.mp4\n"
     ]
    },
    {
     "name": "stderr",
     "output_type": "stream",
     "text": [
      "\r",
      "Testing:  39%|███▊      | 402/1040 [30:39<1:05:03,  6.12s/it]"
     ]
    },
    {
     "name": "stdout",
     "output_type": "stream",
     "text": [
      "Error #1 of 402 files in file: ..\\scenes\\gpPQwwSD5Wk.11_2.mp4\n"
     ]
    },
    {
     "name": "stderr",
     "output_type": "stream",
     "text": [
      "Testing:  39%|███▉      | 408/1040 [31:10<50:51,  4.83s/it]  "
     ]
    },
    {
     "name": "stdout",
     "output_type": "stream",
     "text": [
      "Error #1 of 407 files in file: ..\\scenes\\gpPQwwSD5Wk.1_2.mp4\n",
      "Error #1 of 408 files in file: ..\\scenes\\gpPQwwSD5Wk.7_1.mp4\n"
     ]
    },
    {
     "name": "stderr",
     "output_type": "stream",
     "text": [
      "Testing:  40%|███▉      | 412/1040 [31:26<41:00,  3.92s/it]"
     ]
    },
    {
     "name": "stdout",
     "output_type": "stream",
     "text": [
      "Error #1 of 411 files in file: ..\\scenes\\gpPtxV-Rqx4.0_1.mp4\n"
     ]
    },
    {
     "name": "stderr",
     "output_type": "stream",
     "text": [
      "Testing:  40%|███▉      | 414/1040 [31:34<38:33,  3.70s/it]"
     ]
    },
    {
     "name": "stdout",
     "output_type": "stream",
     "text": [
      "Error #1 of 413 files in file: ..\\scenes\\gpPtxV-Rqx4.10_2.mp4\n"
     ]
    },
    {
     "name": "stderr",
     "output_type": "stream",
     "text": [
      "Testing:  40%|████      | 416/1040 [31:35<20:32,  1.98s/it]"
     ]
    },
    {
     "name": "stdout",
     "output_type": "stream",
     "text": [
      "Error #1 of 414 files in file: ..\\scenes\\gpPtxV-Rqx4.10_3.mp4\n",
      "Error #1 of 415 files in file: ..\\scenes\\gpPtxV-Rqx4.10_4.mp4\n"
     ]
    },
    {
     "name": "stderr",
     "output_type": "stream",
     "text": [
      "\r",
      "Testing:  40%|████      | 417/1040 [31:35<14:57,  1.44s/it]"
     ]
    },
    {
     "name": "stdout",
     "output_type": "stream",
     "text": [
      "Error #1 of 416 files in file: ..\\scenes\\gpPtxV-Rqx4.10_5.mp4\n"
     ]
    },
    {
     "name": "stderr",
     "output_type": "stream",
     "text": [
      "Testing:  40%|████      | 420/1040 [31:51<34:48,  3.37s/it]"
     ]
    },
    {
     "name": "stdout",
     "output_type": "stream",
     "text": [
      "Error #1 of 419 files in file: ..\\scenes\\gpPtxV-Rqx4.11_2.mp4\n",
      "Error #1 of 420 files in file: ..\\scenes\\gpPtxV-Rqx4.1_1.mp4\n"
     ]
    },
    {
     "name": "stderr",
     "output_type": "stream",
     "text": [
      "\r",
      "Testing:  41%|████      | 422/1040 [31:51<19:17,  1.87s/it]"
     ]
    },
    {
     "name": "stdout",
     "output_type": "stream",
     "text": [
      "Error #1 of 421 files in file: ..\\scenes\\gpPtxV-Rqx4.1_2.mp4\n"
     ]
    },
    {
     "name": "stderr",
     "output_type": "stream",
     "text": [
      "\r",
      "Testing:  41%|████      | 423/1040 [31:51<15:14,  1.48s/it]"
     ]
    },
    {
     "name": "stdout",
     "output_type": "stream",
     "text": [
      "Error #1 of 422 files in file: ..\\scenes\\gpPtxV-Rqx4.3_1.mp4\n"
     ]
    },
    {
     "name": "stderr",
     "output_type": "stream",
     "text": [
      "\r",
      "Testing:  41%|████      | 424/1040 [31:52<11:53,  1.16s/it]"
     ]
    },
    {
     "name": "stdout",
     "output_type": "stream",
     "text": [
      "Error #1 of 423 files in file: ..\\scenes\\gpPtxV-Rqx4.5_2.mp4\n"
     ]
    },
    {
     "name": "stderr",
     "output_type": "stream",
     "text": [
      "Testing:  41%|████      | 426/1040 [31:52<07:24,  1.38it/s]"
     ]
    },
    {
     "name": "stdout",
     "output_type": "stream",
     "text": [
      "Error #1 of 424 files in file: ..\\scenes\\gpPtxV-Rqx4.6_2.mp4\n",
      "Error #1 of 425 files in file: ..\\scenes\\gpPtxV-Rqx4.6_3.mp4\n"
     ]
    },
    {
     "name": "stderr",
     "output_type": "stream",
     "text": [
      "Testing:  41%|████      | 428/1040 [32:00<21:09,  2.07s/it]"
     ]
    },
    {
     "name": "stdout",
     "output_type": "stream",
     "text": [
      "Error #1 of 427 files in file: ..\\scenes\\gpQS61CR-_o.13_1.mp4\n"
     ]
    },
    {
     "name": "stderr",
     "output_type": "stream",
     "text": [
      "Testing:  42%|████▏     | 432/1040 [32:31<1:04:20,  6.35s/it]"
     ]
    },
    {
     "name": "stdout",
     "output_type": "stream",
     "text": [
      "Error #1 of 432 files in file: ..\\scenes\\gpR4lOxgWGg.11_1.mp4\n"
     ]
    },
    {
     "name": "stderr",
     "output_type": "stream",
     "text": [
      "Testing:  42%|████▏     | 439/1040 [33:17<1:11:36,  7.15s/it]"
     ]
    },
    {
     "name": "stdout",
     "output_type": "stream",
     "text": [
      "Error #1 of 439 files in file: ..\\scenes\\gpR4lOxgWGg.22_1.mp4\n"
     ]
    },
    {
     "name": "stderr",
     "output_type": "stream",
     "text": [
      "Testing:  42%|████▎     | 442/1040 [33:25<43:04,  4.32s/it]  "
     ]
    },
    {
     "name": "stdout",
     "output_type": "stream",
     "text": [
      "Error #1 of 441 files in file: ..\\scenes\\gpR4lOxgWGg.4_2.mp4\n"
     ]
    },
    {
     "name": "stderr",
     "output_type": "stream",
     "text": [
      "Testing:  43%|████▎     | 446/1040 [33:41<31:02,  3.14s/it]"
     ]
    },
    {
     "name": "stdout",
     "output_type": "stream",
     "text": [
      "Error #1 of 444 files in file: ..\\scenes\\gpR4lOxgWGg.8_2.mp4\n",
      "Error #1 of 445 files in file: ..\\scenes\\gpR4lOxgWGg.8_3.mp4\n"
     ]
    },
    {
     "name": "stderr",
     "output_type": "stream",
     "text": [
      "\r",
      "Testing:  43%|████▎     | 447/1040 [33:41<22:32,  2.28s/it]"
     ]
    },
    {
     "name": "stdout",
     "output_type": "stream",
     "text": [
      "Error #1 of 446 files in file: ..\\scenes\\gpR4lOxgWGg.8_4.mp4\n"
     ]
    },
    {
     "name": "stderr",
     "output_type": "stream",
     "text": [
      "\r",
      "Testing:  43%|████▎     | 448/1040 [33:42<16:43,  1.69s/it]"
     ]
    },
    {
     "name": "stdout",
     "output_type": "stream",
     "text": [
      "Error #1 of 447 files in file: ..\\scenes\\gpR4lOxgWGg.8_5.mp4\n"
     ]
    },
    {
     "name": "stderr",
     "output_type": "stream",
     "text": [
      "Testing:  43%|████▎     | 450/1040 [33:49<24:26,  2.49s/it]"
     ]
    },
    {
     "name": "stdout",
     "output_type": "stream",
     "text": [
      "Error #1 of 449 files in file: ..\\scenes\\gpRI6Cse5Qk.18_2.mp4\n"
     ]
    },
    {
     "name": "stderr",
     "output_type": "stream",
     "text": [
      "Testing:  43%|████▎     | 452/1040 [33:57<28:10,  2.87s/it]"
     ]
    },
    {
     "name": "stdout",
     "output_type": "stream",
     "text": [
      "Error #1 of 451 files in file: ..\\scenes\\gpRbcxjzzPI.1_2.mp4\n"
     ]
    },
    {
     "name": "stderr",
     "output_type": "stream",
     "text": [
      "Testing:  44%|████▎     | 454/1040 [33:58<14:36,  1.50s/it]"
     ]
    },
    {
     "name": "stdout",
     "output_type": "stream",
     "text": [
      "Error #1 of 452 files in file: ..\\scenes\\gpRbcxjzzPI.1_3.mp4\n",
      "Error #1 of 453 files in file: ..\\scenes\\gpRbcxjzzPI.1_4.mp4\n"
     ]
    },
    {
     "name": "stderr",
     "output_type": "stream",
     "text": [
      "\r",
      "Testing:  44%|████▍     | 455/1040 [33:58<10:42,  1.10s/it]"
     ]
    },
    {
     "name": "stdout",
     "output_type": "stream",
     "text": [
      "Error #1 of 454 files in file: ..\\scenes\\gpRbcxjzzPI.1_5.mp4\n"
     ]
    },
    {
     "name": "stderr",
     "output_type": "stream",
     "text": [
      "Testing:  44%|████▍     | 457/1040 [33:58<06:04,  1.60it/s]"
     ]
    },
    {
     "name": "stdout",
     "output_type": "stream",
     "text": [
      "Error #1 of 455 files in file: ..\\scenes\\gpRbcxjzzPI.2_3.mp4\n",
      "Error #1 of 456 files in file: ..\\scenes\\gpRbcxjzzPI.2_4.mp4\n"
     ]
    },
    {
     "name": "stderr",
     "output_type": "stream",
     "text": [
      "Testing:  45%|████▌     | 468/1040 [35:22<1:11:05,  7.46s/it]"
     ]
    },
    {
     "name": "stdout",
     "output_type": "stream",
     "text": [
      "Error #1 of 468 files in file: ..\\scenes\\gpRqP-AsvcQ.3_7.mp4\n"
     ]
    },
    {
     "name": "stderr",
     "output_type": "stream",
     "text": [
      "Testing:  46%|████▌     | 479/1040 [36:24<35:15,  3.77s/it]  "
     ]
    },
    {
     "name": "stdout",
     "output_type": "stream",
     "text": [
      "Error #1 of 477 files in file: ..\\scenes\\gpRqP-AsvcQ.6_1.mp4\n",
      "Error #1 of 478 files in file: ..\\scenes\\gpRqP-AsvcQ.6_2.mp4\n"
     ]
    },
    {
     "name": "stderr",
     "output_type": "stream",
     "text": [
      "Testing:  46%|████▋     | 481/1040 [36:24<18:01,  1.94s/it]"
     ]
    },
    {
     "name": "stdout",
     "output_type": "stream",
     "text": [
      "Error #1 of 479 files in file: ..\\scenes\\gpRqP-AsvcQ.6_3.mp4\n",
      "Error #1 of 480 files in file: ..\\scenes\\gpRqP-AsvcQ.6_4.mp4\n"
     ]
    },
    {
     "name": "stderr",
     "output_type": "stream",
     "text": [
      "Testing:  46%|████▋     | 483/1040 [36:24<09:27,  1.02s/it]"
     ]
    },
    {
     "name": "stdout",
     "output_type": "stream",
     "text": [
      "Error #1 of 481 files in file: ..\\scenes\\gpRqP-AsvcQ.7_1.mp4\n",
      "Error #1 of 482 files in file: ..\\scenes\\gpRqP-AsvcQ.7_2.mp4\n",
      "Error #1 of 483 files in file: ..\\scenes\\gpRqP-AsvcQ.7_3.mp4\n"
     ]
    },
    {
     "name": "stderr",
     "output_type": "stream",
     "text": [
      "\r",
      "Testing:  47%|████▋     | 485/1040 [36:24<05:21,  1.73it/s]"
     ]
    },
    {
     "name": "stdout",
     "output_type": "stream",
     "text": [
      "Error #1 of 484 files in file: ..\\scenes\\gpRqP-AsvcQ.8_5.mp4\n"
     ]
    },
    {
     "name": "stderr",
     "output_type": "stream",
     "text": [
      "Testing:  47%|████▋     | 492/1040 [37:10<43:17,  4.74s/it]  "
     ]
    },
    {
     "name": "stdout",
     "output_type": "stream",
     "text": [
      "Error #1 of 491 files in file: ..\\scenes\\gpSVmJyo0dk.39_2.mp4\n"
     ]
    },
    {
     "name": "stderr",
     "output_type": "stream",
     "text": [
      "\r",
      "Testing:  47%|████▋     | 493/1040 [37:18<50:52,  5.58s/it]"
     ]
    },
    {
     "name": "stdout",
     "output_type": "stream",
     "text": [
      "Error #1 of 493 files in file: ..\\scenes\\gpSVmJyo0dk.4_1.mp4\n"
     ]
    },
    {
     "name": "stderr",
     "output_type": "stream",
     "text": [
      "Testing:  48%|████▊     | 500/1040 [37:49<33:15,  3.70s/it]"
     ]
    },
    {
     "name": "stdout",
     "output_type": "stream",
     "text": [
      "Error #1 of 498 files in file: ..\\scenes\\gpSoNCuNOO8.0_2.mp4\n",
      "Error #1 of 499 files in file: ..\\scenes\\gpSoNCuNOO8.0_3.mp4\n"
     ]
    },
    {
     "name": "stderr",
     "output_type": "stream",
     "text": [
      "\r",
      "Testing:  48%|████▊     | 502/1040 [37:49<20:45,  2.31s/it]"
     ]
    },
    {
     "name": "stdout",
     "output_type": "stream",
     "text": [
      "Error #1 of 500 files in file: ..\\scenes\\gpSoNCuNOO8.1_2.mp4\n",
      "Error #1 of 501 files in file: ..\\scenes\\gpSoNCuNOO8.1_3.mp4\n"
     ]
    },
    {
     "name": "stderr",
     "output_type": "stream",
     "text": [
      "\r",
      "Testing:  48%|████▊     | 503/1040 [37:49<16:28,  1.84s/it]"
     ]
    },
    {
     "name": "stdout",
     "output_type": "stream",
     "text": [
      "Error #1 of 502 files in file: ..\\scenes\\gpSoNCuNOO8.1_4.mp4\n"
     ]
    },
    {
     "name": "stderr",
     "output_type": "stream",
     "text": [
      "Testing:  49%|████▊     | 505/1040 [37:49<10:07,  1.14s/it]"
     ]
    },
    {
     "name": "stdout",
     "output_type": "stream",
     "text": [
      "Error #1 of 503 files in file: ..\\scenes\\gpSoNCuNOO8.1_5.mp4\n",
      "Error #1 of 504 files in file: ..\\scenes\\gpSoNCuNOO8.2_1.mp4\n"
     ]
    },
    {
     "name": "stderr",
     "output_type": "stream",
     "text": [
      "Testing:  49%|████▉     | 508/1040 [37:57<13:53,  1.57s/it]"
     ]
    },
    {
     "name": "stdout",
     "output_type": "stream",
     "text": [
      "Error #1 of 506 files in file: ..\\scenes\\gpSoNCuNOO8.4_2.mp4\n",
      "Error #1 of 507 files in file: ..\\scenes\\gpT5cmdlLcI.13_1.mp4\n"
     ]
    },
    {
     "name": "stderr",
     "output_type": "stream",
     "text": [
      "\r",
      "Testing:  49%|████▉     | 509/1040 [37:58<10:27,  1.18s/it]"
     ]
    },
    {
     "name": "stdout",
     "output_type": "stream",
     "text": [
      "Error #1 of 508 files in file: ..\\scenes\\gpT5cmdlLcI.14_2.mp4\n"
     ]
    },
    {
     "name": "stderr",
     "output_type": "stream",
     "text": [
      "\r",
      "Testing:  49%|████▉     | 510/1040 [38:05<26:36,  3.01s/it]"
     ]
    },
    {
     "name": "stdout",
     "output_type": "stream",
     "text": [
      "Error #1 of 510 files in file: ..\\scenes\\gpTlc31u4s0.100_4.mp4\n"
     ]
    },
    {
     "name": "stderr",
     "output_type": "stream",
     "text": [
      "Testing:  49%|████▉     | 513/1040 [38:13<22:59,  2.62s/it]"
     ]
    },
    {
     "name": "stdout",
     "output_type": "stream",
     "text": [
      "Error #1 of 512 files in file: ..\\scenes\\gpTlc31u4s0.105_2.mp4\n"
     ]
    },
    {
     "name": "stderr",
     "output_type": "stream",
     "text": [
      "Testing:  50%|████▉     | 517/1040 [38:36<36:03,  4.14s/it]"
     ]
    },
    {
     "name": "stdout",
     "output_type": "stream",
     "text": [
      "Error #1 of 516 files in file: ..\\scenes\\gpTlc31u4s0.13_1.mp4\n"
     ]
    },
    {
     "name": "stderr",
     "output_type": "stream",
     "text": [
      "Testing:  50%|█████     | 520/1040 [38:44<22:44,  2.62s/it]"
     ]
    },
    {
     "name": "stdout",
     "output_type": "stream",
     "text": [
      "Error #1 of 518 files in file: ..\\scenes\\gpTlc31u4s0.17_2.mp4\n",
      "Error #1 of 519 files in file: ..\\scenes\\gpTlc31u4s0.17_3.mp4\n"
     ]
    },
    {
     "name": "stderr",
     "output_type": "stream",
     "text": [
      "Testing:  51%|█████     | 528/1040 [39:30<32:15,  3.78s/it]"
     ]
    },
    {
     "name": "stdout",
     "output_type": "stream",
     "text": [
      "Error #1 of 526 files in file: ..\\scenes\\gpTlc31u4s0.28_2.mp4\n",
      "Error #1 of 527 files in file: ..\\scenes\\gpTlc31u4s0.29_3.mp4\n"
     ]
    },
    {
     "name": "stderr",
     "output_type": "stream",
     "text": [
      "Testing:  51%|█████     | 531/1040 [39:37<22:01,  2.60s/it]"
     ]
    },
    {
     "name": "stdout",
     "output_type": "stream",
     "text": [
      "Error #1 of 529 files in file: ..\\scenes\\gpTlc31u4s0.38_1.mp4\n",
      "Error #1 of 530 files in file: ..\\scenes\\gpTlc31u4s0.3_1.mp4\n"
     ]
    },
    {
     "name": "stderr",
     "output_type": "stream",
     "text": [
      "Testing:  51%|█████▏    | 534/1040 [39:53<30:28,  3.61s/it]"
     ]
    },
    {
     "name": "stdout",
     "output_type": "stream",
     "text": [
      "Error #1 of 533 files in file: ..\\scenes\\gpTlc31u4s0.42_2.mp4\n"
     ]
    },
    {
     "name": "stderr",
     "output_type": "stream",
     "text": [
      "Testing:  52%|█████▏    | 536/1040 [40:01<28:54,  3.44s/it]"
     ]
    },
    {
     "name": "stdout",
     "output_type": "stream",
     "text": [
      "Error #1 of 535 files in file: ..\\scenes\\gpTlc31u4s0.44_2.mp4\n"
     ]
    },
    {
     "name": "stderr",
     "output_type": "stream",
     "text": [
      "Testing:  52%|█████▏    | 538/1040 [40:08<28:00,  3.35s/it]"
     ]
    },
    {
     "name": "stdout",
     "output_type": "stream",
     "text": [
      "Error #1 of 537 files in file: ..\\scenes\\gpTlc31u4s0.4_3.mp4\n"
     ]
    },
    {
     "name": "stderr",
     "output_type": "stream",
     "text": [
      "Testing:  52%|█████▏    | 542/1040 [40:24<25:20,  3.05s/it]"
     ]
    },
    {
     "name": "stdout",
     "output_type": "stream",
     "text": [
      "Error #1 of 540 files in file: ..\\scenes\\gpTlc31u4s0.5_1.mp4\n",
      "Error #1 of 541 files in file: ..\\scenes\\gpTlc31u4s0.5_2.mp4\n"
     ]
    },
    {
     "name": "stderr",
     "output_type": "stream",
     "text": [
      "\r",
      "Testing:  52%|█████▏    | 543/1040 [40:32<34:51,  4.21s/it]"
     ]
    },
    {
     "name": "stdout",
     "output_type": "stream",
     "text": [
      "Error #1 of 543 files in file: ..\\scenes\\gpTlc31u4s0.66_2.mp4\n"
     ]
    },
    {
     "name": "stderr",
     "output_type": "stream",
     "text": [
      "Testing:  53%|█████▎    | 547/1040 [40:32<13:24,  1.63s/it]"
     ]
    },
    {
     "name": "stdout",
     "output_type": "stream",
     "text": [
      "Error #1 of 544 files in file: ..\\scenes\\gpTlc31u4s0.66_3.mp4\n",
      "Error #1 of 545 files in file: ..\\scenes\\gpTlc31u4s0.67_2.mp4\n",
      "Error #1 of 546 files in file: ..\\scenes\\gpTlc31u4s0.67_3.mp4\n"
     ]
    },
    {
     "name": "stderr",
     "output_type": "stream",
     "text": [
      "Testing:  53%|█████▎    | 551/1040 [40:48<18:31,  2.27s/it]"
     ]
    },
    {
     "name": "stdout",
     "output_type": "stream",
     "text": [
      "Error #1 of 549 files in file: ..\\scenes\\gpTlc31u4s0.6_2.mp4\n",
      "Error #1 of 550 files in file: ..\\scenes\\gpTlc31u4s0.72_2.mp4\n"
     ]
    },
    {
     "name": "stderr",
     "output_type": "stream",
     "text": [
      "\r",
      "Testing:  53%|█████▎    | 552/1040 [40:48<13:51,  1.70s/it]"
     ]
    },
    {
     "name": "stdout",
     "output_type": "stream",
     "text": [
      "Error #1 of 551 files in file: ..\\scenes\\gpTlc31u4s0.73_1.mp4\n"
     ]
    },
    {
     "name": "stderr",
     "output_type": "stream",
     "text": [
      "Testing:  53%|█████▎    | 555/1040 [41:03<26:29,  3.28s/it]"
     ]
    },
    {
     "name": "stdout",
     "output_type": "stream",
     "text": [
      "Error #1 of 554 files in file: ..\\scenes\\gpTlc31u4s0.80_1.mp4\n"
     ]
    },
    {
     "name": "stderr",
     "output_type": "stream",
     "text": [
      "Testing:  54%|█████▍    | 559/1040 [41:26<34:20,  4.28s/it]"
     ]
    },
    {
     "name": "stdout",
     "output_type": "stream",
     "text": [
      "Error #1 of 558 files in file: ..\\scenes\\gpTlc31u4s0.98_1.mp4\n"
     ]
    },
    {
     "name": "stderr",
     "output_type": "stream",
     "text": [
      "Testing:  54%|█████▍    | 564/1040 [41:57<38:47,  4.89s/it]"
     ]
    },
    {
     "name": "stdout",
     "output_type": "stream",
     "text": [
      "Error #1 of 563 files in file: ..\\scenes\\gpUabx00Uxg.0_1.mp4\n"
     ]
    },
    {
     "name": "stderr",
     "output_type": "stream",
     "text": [
      "Testing:  54%|█████▍    | 566/1040 [42:05<31:48,  4.03s/it]"
     ]
    },
    {
     "name": "stdout",
     "output_type": "stream",
     "text": [
      "Error #1 of 565 files in file: ..\\scenes\\gpUabx00Uxg.10_2.mp4\n"
     ]
    },
    {
     "name": "stderr",
     "output_type": "stream",
     "text": [
      "Testing:  55%|█████▍    | 568/1040 [42:05<16:24,  2.09s/it]"
     ]
    },
    {
     "name": "stdout",
     "output_type": "stream",
     "text": [
      "Error #1 of 566 files in file: ..\\scenes\\gpUabx00Uxg.10_3.mp4\n",
      "Error #1 of 567 files in file: ..\\scenes\\gpUabx00Uxg.13_1.mp4\n"
     ]
    },
    {
     "name": "stderr",
     "output_type": "stream",
     "text": [
      "\r",
      "Testing:  55%|█████▍    | 569/1040 [42:05<11:51,  1.51s/it]"
     ]
    },
    {
     "name": "stdout",
     "output_type": "stream",
     "text": [
      "Error #1 of 568 files in file: ..\\scenes\\gpUabx00Uxg.14_1.mp4\n"
     ]
    },
    {
     "name": "stderr",
     "output_type": "stream",
     "text": [
      "Testing:  55%|█████▍    | 571/1040 [42:06<06:31,  1.20it/s]"
     ]
    },
    {
     "name": "stdout",
     "output_type": "stream",
     "text": [
      "Error #1 of 569 files in file: ..\\scenes\\gpUabx00Uxg.15_2.mp4\n",
      "Error #1 of 570 files in file: ..\\scenes\\gpUabx00Uxg.17_1.mp4\n"
     ]
    },
    {
     "name": "stderr",
     "output_type": "stream",
     "text": [
      "\r",
      "Testing:  55%|█████▌    | 572/1040 [42:06<05:02,  1.55it/s]"
     ]
    },
    {
     "name": "stdout",
     "output_type": "stream",
     "text": [
      "Error #1 of 571 files in file: ..\\scenes\\gpUabx00Uxg.19_1.mp4\n"
     ]
    },
    {
     "name": "stderr",
     "output_type": "stream",
     "text": [
      "Testing:  55%|█████▌    | 575/1040 [42:14<11:11,  1.44s/it]"
     ]
    },
    {
     "name": "stdout",
     "output_type": "stream",
     "text": [
      "Error #1 of 573 files in file: ..\\scenes\\gpUabx00Uxg.1_2.mp4\n",
      "Error #1 of 574 files in file: ..\\scenes\\gpUabx00Uxg.1_3.mp4\n"
     ]
    },
    {
     "name": "stderr",
     "output_type": "stream",
     "text": [
      "Testing:  56%|█████▌    | 579/1040 [42:30<18:21,  2.39s/it]"
     ]
    },
    {
     "name": "stdout",
     "output_type": "stream",
     "text": [
      "Error #1 of 577 files in file: ..\\scenes\\gpUabx00Uxg.21_1.mp4\n",
      "Error #1 of 578 files in file: ..\\scenes\\gpUabx00Uxg.23_1.mp4\n"
     ]
    },
    {
     "name": "stderr",
     "output_type": "stream",
     "text": [
      "Testing:  56%|█████▌    | 581/1040 [42:38<21:31,  2.81s/it]"
     ]
    },
    {
     "name": "stdout",
     "output_type": "stream",
     "text": [
      "Error #1 of 580 files in file: ..\\scenes\\gpUabx00Uxg.25_3.mp4\n"
     ]
    },
    {
     "name": "stderr",
     "output_type": "stream",
     "text": [
      "\r",
      "Testing:  56%|█████▌    | 582/1040 [42:38<15:46,  2.07s/it]"
     ]
    },
    {
     "name": "stdout",
     "output_type": "stream",
     "text": [
      "Error #1 of 581 files in file: ..\\scenes\\gpUabx00Uxg.25_4.mp4\n"
     ]
    },
    {
     "name": "stderr",
     "output_type": "stream",
     "text": [
      "\r",
      "Testing:  56%|█████▌    | 583/1040 [42:38<11:38,  1.53s/it]"
     ]
    },
    {
     "name": "stdout",
     "output_type": "stream",
     "text": [
      "Error #1 of 582 files in file: ..\\scenes\\gpUabx00Uxg.28_1.mp4\n"
     ]
    },
    {
     "name": "stderr",
     "output_type": "stream",
     "text": [
      "Testing:  56%|█████▋    | 586/1040 [42:54<25:20,  3.35s/it]"
     ]
    },
    {
     "name": "stdout",
     "output_type": "stream",
     "text": [
      "Error #1 of 585 files in file: ..\\scenes\\gpUabx00Uxg.30_1.mp4\n"
     ]
    },
    {
     "name": "stderr",
     "output_type": "stream",
     "text": [
      "Testing:  57%|█████▋    | 588/1040 [43:02<25:19,  3.36s/it]"
     ]
    },
    {
     "name": "stdout",
     "output_type": "stream",
     "text": [
      "Error #1 of 587 files in file: ..\\scenes\\gpUabx00Uxg.40_1.mp4\n"
     ]
    },
    {
     "name": "stderr",
     "output_type": "stream",
     "text": [
      "\r",
      "Testing:  57%|█████▋    | 589/1040 [43:02<18:08,  2.41s/it]"
     ]
    },
    {
     "name": "stdout",
     "output_type": "stream",
     "text": [
      "Error #1 of 588 files in file: ..\\scenes\\gpUabx00Uxg.40_2.mp4\n"
     ]
    },
    {
     "name": "stderr",
     "output_type": "stream",
     "text": [
      "Testing:  57%|█████▋    | 591/1040 [43:03<09:46,  1.31s/it]"
     ]
    },
    {
     "name": "stdout",
     "output_type": "stream",
     "text": [
      "Error #1 of 589 files in file: ..\\scenes\\gpUabx00Uxg.40_3.mp4\n",
      "Error #1 of 590 files in file: ..\\scenes\\gpUabx00Uxg.43_1.mp4\n"
     ]
    },
    {
     "name": "stderr",
     "output_type": "stream",
     "text": [
      "Testing:  57%|█████▋    | 593/1040 [43:03<05:16,  1.41it/s]"
     ]
    },
    {
     "name": "stdout",
     "output_type": "stream",
     "text": [
      "Error #1 of 591 files in file: ..\\scenes\\gpUabx00Uxg.49_1.mp4\n",
      "Error #1 of 592 files in file: ..\\scenes\\gpUabx00Uxg.4_1.mp4\n",
      "Error #1 of 593 files in file: ..\\scenes\\gpUabx00Uxg.4_2.mp4\n"
     ]
    },
    {
     "name": "stderr",
     "output_type": "stream",
     "text": [
      "Testing:  57%|█████▊    | 598/1040 [43:26<24:53,  3.38s/it]"
     ]
    },
    {
     "name": "stdout",
     "output_type": "stream",
     "text": [
      "Error #1 of 597 files in file: ..\\scenes\\gpUabx00Uxg.4_6.mp4\n"
     ]
    },
    {
     "name": "stderr",
     "output_type": "stream",
     "text": [
      "Testing:  58%|█████▊    | 600/1040 [43:34<24:31,  3.34s/it]"
     ]
    },
    {
     "name": "stdout",
     "output_type": "stream",
     "text": [
      "Error #1 of 599 files in file: ..\\scenes\\gpUabx00Uxg.51_1.mp4\n"
     ]
    },
    {
     "name": "stderr",
     "output_type": "stream",
     "text": [
      "Testing:  58%|█████▊    | 603/1040 [43:50<29:09,  4.00s/it]"
     ]
    },
    {
     "name": "stdout",
     "output_type": "stream",
     "text": [
      "Error #1 of 602 files in file: ..\\scenes\\gpUabx00Uxg.63_1.mp4\n"
     ]
    },
    {
     "name": "stderr",
     "output_type": "stream",
     "text": [
      "\r",
      "Testing:  58%|█████▊    | 604/1040 [43:50<20:58,  2.89s/it]"
     ]
    },
    {
     "name": "stdout",
     "output_type": "stream",
     "text": [
      "Error #1 of 603 files in file: ..\\scenes\\gpUabx00Uxg.6_2.mp4\n"
     ]
    },
    {
     "name": "stderr",
     "output_type": "stream",
     "text": [
      "\r",
      "Testing:  58%|█████▊    | 605/1040 [43:50<15:08,  2.09s/it]"
     ]
    },
    {
     "name": "stdout",
     "output_type": "stream",
     "text": [
      "Error #1 of 604 files in file: ..\\scenes\\gpUabx00Uxg.70_1.mp4\n"
     ]
    },
    {
     "name": "stderr",
     "output_type": "stream",
     "text": [
      "Testing:  58%|█████▊    | 607/1040 [43:58<19:50,  2.75s/it]"
     ]
    },
    {
     "name": "stdout",
     "output_type": "stream",
     "text": [
      "Error #1 of 606 files in file: ..\\scenes\\gpUabx00Uxg.73_1.mp4\n"
     ]
    },
    {
     "name": "stderr",
     "output_type": "stream",
     "text": [
      "Testing:  59%|█████▉    | 612/1040 [44:22<21:39,  3.04s/it]"
     ]
    },
    {
     "name": "stdout",
     "output_type": "stream",
     "text": [
      "Error #1 of 610 files in file: ..\\scenes\\gpUabx00Uxg.81_1.mp4\n",
      "Error #1 of 611 files in file: ..\\scenes\\gpUabx00Uxg.8_3.mp4\n"
     ]
    },
    {
     "name": "stderr",
     "output_type": "stream",
     "text": [
      "\r",
      "Testing:  59%|█████▉    | 613/1040 [44:22<15:38,  2.20s/it]"
     ]
    },
    {
     "name": "stdout",
     "output_type": "stream",
     "text": [
      "Error #1 of 612 files in file: ..\\scenes\\gpUabx00Uxg.9_1.mp4\n"
     ]
    },
    {
     "name": "stderr",
     "output_type": "stream",
     "text": [
      "\r",
      "Testing:  59%|█████▉    | 614/1040 [44:23<11:39,  1.64s/it]"
     ]
    },
    {
     "name": "stdout",
     "output_type": "stream",
     "text": [
      "Error #1 of 613 files in file: ..\\scenes\\gpUabx00Uxg.9_2.mp4\n"
     ]
    },
    {
     "name": "stderr",
     "output_type": "stream",
     "text": [
      "\r",
      "Testing:  59%|█████▉    | 615/1040 [44:23<08:51,  1.25s/it]"
     ]
    },
    {
     "name": "stdout",
     "output_type": "stream",
     "text": [
      "Error #1 of 614 files in file: ..\\scenes\\gpUabx00Uxg.9_3.mp4\n",
      "Error #1 of 615 files in file: ..\\scenes\\gpW4MlY_3IY.0_3.mp4\n"
     ]
    },
    {
     "name": "stderr",
     "output_type": "stream",
     "text": [
      "\r",
      "Testing:  59%|█████▉    | 617/1040 [44:23<05:15,  1.34it/s]"
     ]
    },
    {
     "name": "stdout",
     "output_type": "stream",
     "text": [
      "Error #1 of 616 files in file: ..\\scenes\\gpW4MlY_3IY.0_5.mp4\n",
      "Error #1 of 617 files in file: ..\\scenes\\gpW4MlY_3IY.10_1.mp4\n"
     ]
    },
    {
     "name": "stderr",
     "output_type": "stream",
     "text": [
      "Testing:  60%|█████▉    | 621/1040 [44:31<08:36,  1.23s/it]"
     ]
    },
    {
     "name": "stdout",
     "output_type": "stream",
     "text": [
      "Error #1 of 619 files in file: ..\\scenes\\gpW4MlY_3IY.11_1.mp4\n",
      "Error #1 of 620 files in file: ..\\scenes\\gpW4MlY_3IY.11_2.mp4\n"
     ]
    },
    {
     "name": "stderr",
     "output_type": "stream",
     "text": [
      "Testing:  60%|██████    | 624/1040 [44:47<20:55,  3.02s/it]"
     ]
    },
    {
     "name": "stdout",
     "output_type": "stream",
     "text": [
      "Error #1 of 623 files in file: ..\\scenes\\gpW4MlY_3IY.12_1.mp4\n"
     ]
    },
    {
     "name": "stderr",
     "output_type": "stream",
     "text": [
      "Testing:  60%|██████    | 628/1040 [45:02<18:47,  2.74s/it]"
     ]
    },
    {
     "name": "stdout",
     "output_type": "stream",
     "text": [
      "Error #1 of 626 files in file: ..\\scenes\\gpW4MlY_3IY.14_2.mp4\n",
      "Error #1 of 627 files in file: ..\\scenes\\gpW4MlY_3IY.14_3.mp4\n",
      "Error #1 of 628 files in file: ..\\scenes\\gpW4MlY_3IY.14_4.mp4\n"
     ]
    },
    {
     "name": "stderr",
     "output_type": "stream",
     "text": [
      "Testing:  61%|██████    | 631/1040 [45:03<08:01,  1.18s/it]"
     ]
    },
    {
     "name": "stdout",
     "output_type": "stream",
     "text": [
      "Error #1 of 629 files in file: ..\\scenes\\gpW4MlY_3IY.15_2.mp4\n",
      "Error #1 of 630 files in file: ..\\scenes\\gpW4MlY_3IY.18_1.mp4\n"
     ]
    },
    {
     "name": "stderr",
     "output_type": "stream",
     "text": [
      "Testing:  61%|██████    | 635/1040 [45:11<07:46,  1.15s/it]"
     ]
    },
    {
     "name": "stdout",
     "output_type": "stream",
     "text": [
      "Error #1 of 632 files in file: ..\\scenes\\gpW4MlY_3IY.20_1.mp4\n",
      "Error #1 of 633 files in file: ..\\scenes\\gpW4MlY_3IY.20_2.mp4\n",
      "Error #1 of 634 files in file: ..\\scenes\\gpW4MlY_3IY.21_1.mp4\n"
     ]
    },
    {
     "name": "stderr",
     "output_type": "stream",
     "text": [
      "Testing:  61%|██████▏   | 637/1040 [45:19<15:23,  2.29s/it]"
     ]
    },
    {
     "name": "stdout",
     "output_type": "stream",
     "text": [
      "Error #1 of 636 files in file: ..\\scenes\\gpW4MlY_3IY.22_2.mp4\n"
     ]
    },
    {
     "name": "stderr",
     "output_type": "stream",
     "text": [
      "Testing:  62%|██████▏   | 642/1040 [45:42<19:16,  2.91s/it]"
     ]
    },
    {
     "name": "stdout",
     "output_type": "stream",
     "text": [
      "Error #1 of 640 files in file: ..\\scenes\\gpW4MlY_3IY.23_4.mp4\n",
      "Error #1 of 641 files in file: ..\\scenes\\gpW4MlY_3IY.24_3.mp4\n"
     ]
    },
    {
     "name": "stderr",
     "output_type": "stream",
     "text": [
      "Testing:  62%|██████▏   | 644/1040 [45:57<34:47,  5.27s/it]"
     ]
    },
    {
     "name": "stdout",
     "output_type": "stream",
     "text": [
      "Error #1 of 644 files in file: ..\\scenes\\gpW4MlY_3IY.25_3.mp4\n"
     ]
    },
    {
     "name": "stderr",
     "output_type": "stream",
     "text": [
      "Testing:  62%|██████▎   | 650/1040 [46:13<15:02,  2.31s/it]"
     ]
    },
    {
     "name": "stdout",
     "output_type": "stream",
     "text": [
      "Error #1 of 647 files in file: ..\\scenes\\gpW4MlY_3IY.25_7.mp4\n",
      "Error #1 of 648 files in file: ..\\scenes\\gpW4MlY_3IY.25_8.mp4\n",
      "Error #1 of 649 files in file: ..\\scenes\\gpW4MlY_3IY.25_9.mp4\n"
     ]
    },
    {
     "name": "stderr",
     "output_type": "stream",
     "text": [
      "\r",
      "Testing:  63%|██████▎   | 651/1040 [46:13<11:57,  1.84s/it]"
     ]
    },
    {
     "name": "stdout",
     "output_type": "stream",
     "text": [
      "Error #1 of 650 files in file: ..\\scenes\\gpW4MlY_3IY.26_5.mp4\n"
     ]
    },
    {
     "name": "stderr",
     "output_type": "stream",
     "text": [
      "Testing:  63%|██████▎   | 657/1040 [46:51<29:24,  4.61s/it]"
     ]
    },
    {
     "name": "stdout",
     "output_type": "stream",
     "text": [
      "Error #1 of 656 files in file: ..\\scenes\\gpW4MlY_3IY.32_3.mp4\n"
     ]
    },
    {
     "name": "stderr",
     "output_type": "stream",
     "text": [
      "\r",
      "Testing:  63%|██████▎   | 658/1040 [46:59<34:49,  5.47s/it]"
     ]
    },
    {
     "name": "stdout",
     "output_type": "stream",
     "text": [
      "Error #1 of 658 files in file: ..\\scenes\\gpW4MlY_3IY.32_6.mp4\n"
     ]
    },
    {
     "name": "stderr",
     "output_type": "stream",
     "text": [
      "Testing:  64%|██████▍   | 663/1040 [47:22<27:58,  4.45s/it]"
     ]
    },
    {
     "name": "stdout",
     "output_type": "stream",
     "text": [
      "Error #1 of 662 files in file: ..\\scenes\\gpW4MlY_3IY.35_2.mp4\n"
     ]
    },
    {
     "name": "stderr",
     "output_type": "stream",
     "text": [
      "Testing:  64%|██████▍   | 668/1040 [47:45<20:29,  3.30s/it]"
     ]
    },
    {
     "name": "stdout",
     "output_type": "stream",
     "text": [
      "Error #1 of 666 files in file: ..\\scenes\\gpW4MlY_3IY.38_2.mp4\n",
      "Error #1 of 667 files in file: ..\\scenes\\gpW4MlY_3IY.39_2.mp4\n"
     ]
    },
    {
     "name": "stderr",
     "output_type": "stream",
     "text": [
      "Testing:  64%|██████▍   | 670/1040 [47:46<10:36,  1.72s/it]"
     ]
    },
    {
     "name": "stdout",
     "output_type": "stream",
     "text": [
      "Error #1 of 668 files in file: ..\\scenes\\gpW4MlY_3IY.39_3.mp4\n",
      "Error #1 of 669 files in file: ..\\scenes\\gpW4MlY_3IY.3_1.mp4\n"
     ]
    },
    {
     "name": "stderr",
     "output_type": "stream",
     "text": [
      "Testing:  65%|██████▍   | 674/1040 [48:09<24:08,  3.96s/it]"
     ]
    },
    {
     "name": "stdout",
     "output_type": "stream",
     "text": [
      "Error #1 of 673 files in file: ..\\scenes\\gpW4MlY_3IY.8_3.mp4\n"
     ]
    },
    {
     "name": "stderr",
     "output_type": "stream",
     "text": [
      "Testing:  65%|██████▌   | 679/1040 [48:25<13:52,  2.31s/it]"
     ]
    },
    {
     "name": "stdout",
     "output_type": "stream",
     "text": [
      "Error #1 of 676 files in file: ..\\scenes\\gpWmFbZsskQ.0_2.mp4\n",
      "Error #1 of 677 files in file: ..\\scenes\\gpWmFbZsskQ.0_3.mp4\n",
      "Error #1 of 678 files in file: ..\\scenes\\gpWmFbZsskQ.0_4.mp4\n"
     ]
    },
    {
     "name": "stderr",
     "output_type": "stream",
     "text": [
      "Testing:  66%|██████▌   | 682/1040 [48:50<36:01,  6.04s/it]"
     ]
    },
    {
     "name": "stdout",
     "output_type": "stream",
     "text": [
      "Error #1 of 682 files in file: ..\\scenes\\gpWmFbZsskQ.1_2.mp4\n"
     ]
    },
    {
     "name": "stderr",
     "output_type": "stream",
     "text": [
      "Testing:  66%|██████▌   | 685/1040 [48:59<23:56,  4.05s/it]"
     ]
    },
    {
     "name": "stdout",
     "output_type": "stream",
     "text": [
      "Error #1 of 684 files in file: ..\\scenes\\gpWmFbZsskQ.1_4.mp4\n",
      "Error #1 of 685 files in file: ..\\scenes\\gpWmFbZsskQ.21_1.mp4\n"
     ]
    },
    {
     "name": "stderr",
     "output_type": "stream",
     "text": [
      "\r",
      "Testing:  66%|██████▌   | 687/1040 [48:59<14:25,  2.45s/it]"
     ]
    },
    {
     "name": "stdout",
     "output_type": "stream",
     "text": [
      "Error #1 of 686 files in file: ..\\scenes\\gpWmFbZsskQ.21_2.mp4\n"
     ]
    },
    {
     "name": "stderr",
     "output_type": "stream",
     "text": [
      "Testing:  66%|██████▋   | 689/1040 [49:08<16:50,  2.88s/it]"
     ]
    },
    {
     "name": "stdout",
     "output_type": "stream",
     "text": [
      "Error #1 of 688 files in file: ..\\scenes\\gpWmFbZsskQ.24_2.mp4\n"
     ]
    },
    {
     "name": "stderr",
     "output_type": "stream",
     "text": [
      "Testing:  66%|██████▋   | 691/1040 [49:16<18:45,  3.23s/it]"
     ]
    },
    {
     "name": "stdout",
     "output_type": "stream",
     "text": [
      "Error #1 of 690 files in file: ..\\scenes\\gpWmFbZsskQ.31_1.mp4\n"
     ]
    },
    {
     "name": "stderr",
     "output_type": "stream",
     "text": [
      "Testing:  67%|██████▋   | 694/1040 [49:26<14:46,  2.56s/it]"
     ]
    },
    {
     "name": "stdout",
     "output_type": "stream",
     "text": [
      "Error #1 of 692 files in file: ..\\scenes\\gpWmFbZsskQ.33_1.mp4\n",
      "Error #1 of 693 files in file: ..\\scenes\\gpWmFbZsskQ.38_1.mp4\n"
     ]
    },
    {
     "name": "stderr",
     "output_type": "stream",
     "text": [
      "\r",
      "Testing:  67%|██████▋   | 695/1040 [49:26<10:40,  1.86s/it]"
     ]
    },
    {
     "name": "stdout",
     "output_type": "stream",
     "text": [
      "Error #1 of 694 files in file: ..\\scenes\\gpWmFbZsskQ.40_1.mp4\n"
     ]
    },
    {
     "name": "stderr",
     "output_type": "stream",
     "text": [
      "\r",
      "Testing:  67%|██████▋   | 696/1040 [49:26<07:59,  1.39s/it]"
     ]
    },
    {
     "name": "stdout",
     "output_type": "stream",
     "text": [
      "Error #1 of 695 files in file: ..\\scenes\\gpWmFbZsskQ.43_1.mp4\n"
     ]
    },
    {
     "name": "stderr",
     "output_type": "stream",
     "text": [
      "Testing:  68%|██████▊   | 710/1040 [51:05<23:59,  4.36s/it]"
     ]
    },
    {
     "name": "stdout",
     "output_type": "stream",
     "text": [
      "Error #1 of 708 files in file: ..\\scenes\\gpXvtOmlbLw.13_3.mp4\n",
      "Error #1 of 709 files in file: ..\\scenes\\gpXvtOmlbLw.13_4.mp4\n"
     ]
    },
    {
     "name": "stderr",
     "output_type": "stream",
     "text": [
      "Testing:  70%|██████▉   | 723/1040 [52:51<43:04,  8.15s/it]"
     ]
    },
    {
     "name": "stdout",
     "output_type": "stream",
     "text": [
      "Error #1 of 723 files in file: ..\\scenes\\gpXvtOmlbLw.19_3.mp4\n"
     ]
    },
    {
     "name": "stderr",
     "output_type": "stream",
     "text": [
      "Testing:  72%|███████▏  | 747/1040 [55:42<22:00,  4.51s/it]"
     ]
    },
    {
     "name": "stdout",
     "output_type": "stream",
     "text": [
      "Error #1 of 745 files in file: ..\\scenes\\gpXvtOmlbLw.28_2.mp4\n",
      "Error #1 of 746 files in file: ..\\scenes\\gpXvtOmlbLw.28_3.mp4\n",
      "Error #1 of 747 files in file: ..\\scenes\\gpXvtOmlbLw.28_4.mp4\n"
     ]
    },
    {
     "name": "stderr",
     "output_type": "stream",
     "text": [
      "\r",
      "Testing:  72%|███████▏  | 749/1040 [55:42<13:19,  2.75s/it]"
     ]
    },
    {
     "name": "stdout",
     "output_type": "stream",
     "text": [
      "Error #1 of 748 files in file: ..\\scenes\\gpXvtOmlbLw.28_5.mp4\n"
     ]
    },
    {
     "name": "stderr",
     "output_type": "stream",
     "text": [
      "\r",
      "Testing:  72%|███████▏  | 750/1040 [55:50<18:58,  3.93s/it]"
     ]
    },
    {
     "name": "stdout",
     "output_type": "stream",
     "text": [
      "Error #1 of 750 files in file: ..\\scenes\\gpXvtOmlbLw.2_3.mp4\n"
     ]
    },
    {
     "name": "stderr",
     "output_type": "stream",
     "text": [
      "Testing:  75%|███████▍  | 775/1040 [58:48<17:26,  3.95s/it]"
     ]
    },
    {
     "name": "stdout",
     "output_type": "stream",
     "text": [
      "Error #1 of 773 files in file: ..\\scenes\\gpYVpZNLz5E.0_4.mp4\n",
      "Error #1 of 774 files in file: ..\\scenes\\gpYVpZNLz5E.10_2.mp4\n"
     ]
    },
    {
     "name": "stderr",
     "output_type": "stream",
     "text": [
      "Testing:  75%|███████▍  | 777/1040 [58:56<16:03,  3.66s/it]"
     ]
    },
    {
     "name": "stdout",
     "output_type": "stream",
     "text": [
      "Error #1 of 776 files in file: ..\\scenes\\gpYVpZNLz5E.16_1.mp4\n"
     ]
    },
    {
     "name": "stderr",
     "output_type": "stream",
     "text": [
      "\r",
      "Testing:  75%|███████▍  | 778/1040 [58:56<11:28,  2.63s/it]"
     ]
    },
    {
     "name": "stdout",
     "output_type": "stream",
     "text": [
      "Error #1 of 777 files in file: ..\\scenes\\gpYVpZNLz5E.18_1.mp4\n"
     ]
    },
    {
     "name": "stderr",
     "output_type": "stream",
     "text": [
      "Testing:  75%|███████▌  | 780/1040 [58:57<06:02,  1.39s/it]"
     ]
    },
    {
     "name": "stdout",
     "output_type": "stream",
     "text": [
      "Error #1 of 778 files in file: ..\\scenes\\gpYVpZNLz5E.19_1.mp4\n",
      "Error #1 of 779 files in file: ..\\scenes\\gpYVpZNLz5E.1_1.mp4\n"
     ]
    },
    {
     "name": "stderr",
     "output_type": "stream",
     "text": [
      "\r",
      "Testing:  75%|███████▌  | 781/1040 [58:57<04:27,  1.03s/it]"
     ]
    },
    {
     "name": "stdout",
     "output_type": "stream",
     "text": [
      "Error #1 of 780 files in file: ..\\scenes\\gpYVpZNLz5E.4_1.mp4\n"
     ]
    },
    {
     "name": "stderr",
     "output_type": "stream",
     "text": [
      "Testing:  76%|███████▋  | 794/1040 [1:00:40<31:52,  7.77s/it]"
     ]
    },
    {
     "name": "stdout",
     "output_type": "stream",
     "text": [
      "Error #1 of 794 files in file: ..\\scenes\\gpYvNu4y8Jg.34_1.mp4\n"
     ]
    },
    {
     "name": "stderr",
     "output_type": "stream",
     "text": [
      "Testing:  77%|███████▋  | 797/1040 [1:00:49<18:54,  4.67s/it]"
     ]
    },
    {
     "name": "stdout",
     "output_type": "stream",
     "text": [
      "Error #1 of 796 files in file: ..\\scenes\\gpYvNu4y8Jg.36_2.mp4\n"
     ]
    },
    {
     "name": "stderr",
     "output_type": "stream",
     "text": [
      "Testing:  78%|███████▊  | 814/1040 [1:03:00<28:51,  7.66s/it]"
     ]
    },
    {
     "name": "stdout",
     "output_type": "stream",
     "text": [
      "Error #1 of 814 files in file: ..\\scenes\\gpYvNu4y8Jg.65_1.mp4\n"
     ]
    },
    {
     "name": "stderr",
     "output_type": "stream",
     "text": [
      "Testing:  80%|███████▉  | 827/1040 [1:04:18<13:38,  3.84s/it]"
     ]
    },
    {
     "name": "stdout",
     "output_type": "stream",
     "text": [
      "Error #1 of 825 files in file: ..\\scenes\\gpYvNu4y8Jg.83_3.mp4\n",
      "Error #1 of 826 files in file: ..\\scenes\\gpYvNu4y8Jg.9_1.mp4\n"
     ]
    },
    {
     "name": "stderr",
     "output_type": "stream",
     "text": [
      "Testing:  80%|███████▉  | 829/1040 [1:04:18<06:54,  1.97s/it]"
     ]
    },
    {
     "name": "stdout",
     "output_type": "stream",
     "text": [
      "Error #1 of 827 files in file: ..\\scenes\\gpZB0UWlqZ8.12_1.mp4\n",
      "Error #1 of 828 files in file: ..\\scenes\\gpZB0UWlqZ8.16_1.mp4\n"
     ]
    },
    {
     "name": "stderr",
     "output_type": "stream",
     "text": [
      "\r",
      "Testing:  80%|███████▉  | 830/1040 [1:04:18<04:58,  1.42s/it]"
     ]
    },
    {
     "name": "stdout",
     "output_type": "stream",
     "text": [
      "Error #1 of 829 files in file: ..\\scenes\\gpZB0UWlqZ8.17_1.mp4\n"
     ]
    },
    {
     "name": "stderr",
     "output_type": "stream",
     "text": [
      "Testing:  80%|████████  | 832/1040 [1:04:19<02:43,  1.27it/s]"
     ]
    },
    {
     "name": "stdout",
     "output_type": "stream",
     "text": [
      "Error #1 of 830 files in file: ..\\scenes\\gpZB0UWlqZ8.20_1.mp4\n",
      "Error #1 of 831 files in file: ..\\scenes\\gpZB0UWlqZ8.20_2.mp4\n"
     ]
    },
    {
     "name": "stderr",
     "output_type": "stream",
     "text": [
      "\r",
      "Testing:  80%|████████  | 833/1040 [1:04:19<02:04,  1.67it/s]"
     ]
    },
    {
     "name": "stdout",
     "output_type": "stream",
     "text": [
      "Error #1 of 832 files in file: ..\\scenes\\gpZB0UWlqZ8.20_3.mp4\n"
     ]
    },
    {
     "name": "stderr",
     "output_type": "stream",
     "text": [
      "Testing:  80%|████████  | 836/1040 [1:04:27<04:43,  1.39s/it]"
     ]
    },
    {
     "name": "stdout",
     "output_type": "stream",
     "text": [
      "Error #1 of 834 files in file: ..\\scenes\\gpZB0UWlqZ8.2_1.mp4\n",
      "Error #1 of 835 files in file: ..\\scenes\\gpZB0UWlqZ8.2_2.mp4\n"
     ]
    },
    {
     "name": "stderr",
     "output_type": "stream",
     "text": [
      "\r",
      "Testing:  80%|████████  | 837/1040 [1:04:27<03:28,  1.03s/it]"
     ]
    },
    {
     "name": "stdout",
     "output_type": "stream",
     "text": [
      "Error #1 of 836 files in file: ..\\scenes\\gpZB0UWlqZ8.2_3.mp4\n",
      "Error #1 of 837 files in file: ..\\scenes\\gpZB0UWlqZ8.2_4.mp4\n"
     ]
    },
    {
     "name": "stderr",
     "output_type": "stream",
     "text": [
      "Testing:  81%|████████  | 843/1040 [1:04:50<08:56,  2.72s/it]"
     ]
    },
    {
     "name": "stdout",
     "output_type": "stream",
     "text": [
      "Error #1 of 841 files in file: ..\\scenes\\gpZB0UWlqZ8.4_4.mp4\n",
      "Error #1 of 842 files in file: ..\\scenes\\gpZB0UWlqZ8.4_5.mp4\n"
     ]
    },
    {
     "name": "stderr",
     "output_type": "stream",
     "text": [
      "Testing:  81%|████████▏ | 846/1040 [1:04:58<07:13,  2.24s/it]"
     ]
    },
    {
     "name": "stdout",
     "output_type": "stream",
     "text": [
      "Error #1 of 844 files in file: ..\\scenes\\gpZB0UWlqZ8.6_1.mp4\n",
      "Error #1 of 845 files in file: ..\\scenes\\gpZB0UWlqZ8.6_2.mp4\n"
     ]
    },
    {
     "name": "stderr",
     "output_type": "stream",
     "text": [
      "\r",
      "Testing:  81%|████████▏ | 847/1040 [1:04:58<05:24,  1.68s/it]"
     ]
    },
    {
     "name": "stdout",
     "output_type": "stream",
     "text": [
      "Error #1 of 846 files in file: ..\\scenes\\gpZB0UWlqZ8.9_1.mp4\n"
     ]
    },
    {
     "name": "stderr",
     "output_type": "stream",
     "text": [
      "Testing:  82%|████████▏ | 849/1040 [1:05:07<08:05,  2.54s/it]"
     ]
    },
    {
     "name": "stdout",
     "output_type": "stream",
     "text": [
      "Error #1 of 848 files in file: ..\\scenes\\gpZkpvrm7i8.4_1.mp4\n"
     ]
    },
    {
     "name": "stderr",
     "output_type": "stream",
     "text": [
      "\r",
      "Testing:  82%|████████▏ | 850/1040 [1:05:07<05:57,  1.88s/it]"
     ]
    },
    {
     "name": "stdout",
     "output_type": "stream",
     "text": [
      "Error #1 of 849 files in file: ..\\scenes\\gpZkpvrm7i8.5_2.mp4\n"
     ]
    },
    {
     "name": "stderr",
     "output_type": "stream",
     "text": [
      "Testing:  82%|████████▏ | 852/1040 [1:05:15<08:07,  2.59s/it]"
     ]
    },
    {
     "name": "stdout",
     "output_type": "stream",
     "text": [
      "Error #1 of 851 files in file: ..\\scenes\\gpZkpvrm7i8.6_3.mp4\n"
     ]
    },
    {
     "name": "stderr",
     "output_type": "stream",
     "text": [
      "Testing:  82%|████████▏ | 854/1040 [1:05:23<09:12,  2.97s/it]"
     ]
    },
    {
     "name": "stdout",
     "output_type": "stream",
     "text": [
      "Error #1 of 853 files in file: ..\\scenes\\gpZkpvrm7i8.8_1.mp4\n"
     ]
    },
    {
     "name": "stderr",
     "output_type": "stream",
     "text": [
      "\r",
      "Testing:  82%|████████▏ | 855/1040 [1:05:23<06:40,  2.16s/it]"
     ]
    },
    {
     "name": "stdout",
     "output_type": "stream",
     "text": [
      "Error #1 of 854 files in file: ..\\scenes\\gpZkpvrm7i8.8_2.mp4\n"
     ]
    },
    {
     "name": "stderr",
     "output_type": "stream",
     "text": [
      "\r",
      "Testing:  82%|████████▏ | 856/1040 [1:05:23<04:53,  1.60s/it]"
     ]
    },
    {
     "name": "stdout",
     "output_type": "stream",
     "text": [
      "Error #1 of 855 files in file: ..\\scenes\\gpZy7kZu5Cs.0_1.mp4\n"
     ]
    },
    {
     "name": "stderr",
     "output_type": "stream",
     "text": [
      "Testing:  83%|████████▎ | 860/1040 [1:05:47<11:54,  3.97s/it]"
     ]
    },
    {
     "name": "stdout",
     "output_type": "stream",
     "text": [
      "Error #1 of 859 files in file: ..\\scenes\\gpZy7kZu5Cs.3_3.mp4\n"
     ]
    },
    {
     "name": "stderr",
     "output_type": "stream",
     "text": [
      "Testing:  83%|████████▎ | 862/1040 [1:05:54<10:39,  3.59s/it]"
     ]
    },
    {
     "name": "stdout",
     "output_type": "stream",
     "text": [
      "Error #1 of 861 files in file: ..\\scenes\\gpZy7kZu5Cs.4_3.mp4\n"
     ]
    },
    {
     "name": "stderr",
     "output_type": "stream",
     "text": [
      "\r",
      "Testing:  83%|████████▎ | 863/1040 [1:05:55<07:37,  2.58s/it]"
     ]
    },
    {
     "name": "stdout",
     "output_type": "stream",
     "text": [
      "Error #1 of 862 files in file: ..\\scenes\\gpZy7kZu5Cs.5_1.mp4\n"
     ]
    },
    {
     "name": "stderr",
     "output_type": "stream",
     "text": [
      "Testing:  84%|████████▎ | 869/1040 [1:06:35<14:14,  5.00s/it]"
     ]
    },
    {
     "name": "stdout",
     "output_type": "stream",
     "text": [
      "Error #1 of 868 files in file: ..\\scenes\\gp_JecVpGAU.10_2.mp4\n"
     ]
    },
    {
     "name": "stderr",
     "output_type": "stream",
     "text": [
      "Testing:  84%|████████▍ | 871/1040 [1:06:50<17:53,  6.35s/it]"
     ]
    },
    {
     "name": "stdout",
     "output_type": "stream",
     "text": [
      "Error #1 of 871 files in file: ..\\scenes\\gp_JecVpGAU.5_2.mp4\n"
     ]
    },
    {
     "name": "stderr",
     "output_type": "stream",
     "text": [
      "Testing:  85%|████████▌ | 887/1040 [1:08:47<19:58,  7.83s/it]"
     ]
    },
    {
     "name": "stdout",
     "output_type": "stream",
     "text": [
      "Error #1 of 887 files in file: ..\\scenes\\gp_aQdBPQmY.12_6.mp4\n"
     ]
    },
    {
     "name": "stderr",
     "output_type": "stream",
     "text": [
      "Testing:  86%|████████▌ | 892/1040 [1:09:03<08:47,  3.57s/it]"
     ]
    },
    {
     "name": "stdout",
     "output_type": "stream",
     "text": [
      "Error #1 of 890 files in file: ..\\scenes\\gp_aQdBPQmY.13_4.mp4\n",
      "Error #1 of 891 files in file: ..\\scenes\\gp_aQdBPQmY.14_2.mp4\n"
     ]
    },
    {
     "name": "stderr",
     "output_type": "stream",
     "text": [
      "Testing:  86%|████████▌ | 895/1040 [1:09:11<05:54,  2.44s/it]"
     ]
    },
    {
     "name": "stdout",
     "output_type": "stream",
     "text": [
      "Error #1 of 893 files in file: ..\\scenes\\gp_aQdBPQmY.14_4.mp4\n",
      "Error #1 of 894 files in file: ..\\scenes\\gp_aQdBPQmY.14_5.mp4\n"
     ]
    },
    {
     "name": "stderr",
     "output_type": "stream",
     "text": [
      "Testing:  87%|████████▋ | 902/1040 [1:09:59<12:01,  5.23s/it]"
     ]
    },
    {
     "name": "stdout",
     "output_type": "stream",
     "text": [
      "Error #1 of 901 files in file: ..\\scenes\\gp_aQdBPQmY.3_3.mp4\n"
     ]
    },
    {
     "name": "stderr",
     "output_type": "stream",
     "text": [
      "Testing:  87%|████████▋ | 904/1040 [1:10:07<09:38,  4.25s/it]"
     ]
    },
    {
     "name": "stdout",
     "output_type": "stream",
     "text": [
      "Error #1 of 903 files in file: ..\\scenes\\gp_aQdBPQmY.5_3.mp4\n"
     ]
    },
    {
     "name": "stderr",
     "output_type": "stream",
     "text": [
      "Testing:  87%|████████▋ | 906/1040 [1:10:15<08:25,  3.77s/it]"
     ]
    },
    {
     "name": "stdout",
     "output_type": "stream",
     "text": [
      "Error #1 of 905 files in file: ..\\scenes\\gp_aQdBPQmY.6_2.mp4\n"
     ]
    },
    {
     "name": "stderr",
     "output_type": "stream",
     "text": [
      "Testing:  88%|████████▊ | 910/1040 [1:10:46<14:45,  6.81s/it]"
     ]
    },
    {
     "name": "stdout",
     "output_type": "stream",
     "text": [
      "Error #1 of 910 files in file: ..\\scenes\\gp_aQdBPQmY.7_6.mp4\n"
     ]
    },
    {
     "name": "stderr",
     "output_type": "stream",
     "text": [
      "Testing:  88%|████████▊ | 919/1040 [1:11:34<07:32,  3.74s/it]"
     ]
    },
    {
     "name": "stdout",
     "output_type": "stream",
     "text": [
      "Error #1 of 917 files in file: ..\\scenes\\gp_aQdBPQmY.8_6.mp4\n",
      "Error #1 of 918 files in file: ..\\scenes\\gp_aQdBPQmY.8_7.mp4\n"
     ]
    },
    {
     "name": "stderr",
     "output_type": "stream",
     "text": [
      "\r",
      "Testing:  88%|████████▊ | 920/1040 [1:11:34<05:20,  2.67s/it]"
     ]
    },
    {
     "name": "stdout",
     "output_type": "stream",
     "text": [
      "Error #1 of 919 files in file: ..\\scenes\\gp_aQdBPQmY.8_8.mp4\n"
     ]
    },
    {
     "name": "stderr",
     "output_type": "stream",
     "text": [
      "\r",
      "Testing:  89%|████████▊ | 921/1040 [1:11:42<08:20,  4.21s/it]"
     ]
    },
    {
     "name": "stdout",
     "output_type": "stream",
     "text": [
      "Error #1 of 921 files in file: ..\\scenes\\gp_aQdBPQmY.9_2.mp4\n"
     ]
    },
    {
     "name": "stderr",
     "output_type": "stream",
     "text": [
      "Testing:  89%|████████▉ | 925/1040 [1:11:50<04:44,  2.48s/it]"
     ]
    },
    {
     "name": "stdout",
     "output_type": "stream",
     "text": [
      "Error #1 of 923 files in file: ..\\scenes\\gp_nhBdsKE4.0_1.mp4\n",
      "Error #1 of 924 files in file: ..\\scenes\\gp_nhBdsKE4.101_1.mp4\n"
     ]
    },
    {
     "name": "stderr",
     "output_type": "stream",
     "text": [
      "Testing:  90%|████████▉ | 932/1040 [1:12:39<09:41,  5.38s/it]"
     ]
    },
    {
     "name": "stdout",
     "output_type": "stream",
     "text": [
      "Error #1 of 931 files in file: ..\\scenes\\gp_nhBdsKE4.108_1.mp4\n"
     ]
    },
    {
     "name": "stderr",
     "output_type": "stream",
     "text": [
      "Testing:  90%|████████▉ | 935/1040 [1:12:48<05:38,  3.22s/it]"
     ]
    },
    {
     "name": "stdout",
     "output_type": "stream",
     "text": [
      "Error #1 of 933 files in file: ..\\scenes\\gp_nhBdsKE4.109_2.mp4\n",
      "Error #1 of 934 files in file: ..\\scenes\\gp_nhBdsKE4.112_2.mp4\n"
     ]
    },
    {
     "name": "stderr",
     "output_type": "stream",
     "text": [
      "Testing:  90%|█████████ | 937/1040 [1:13:04<09:41,  5.65s/it]"
     ]
    },
    {
     "name": "stdout",
     "output_type": "stream",
     "text": [
      "Error #1 of 937 files in file: ..\\scenes\\gp_nhBdsKE4.116_1.mp4\n"
     ]
    },
    {
     "name": "stderr",
     "output_type": "stream",
     "text": [
      "Testing:  91%|█████████ | 943/1040 [1:13:32<05:53,  3.65s/it]"
     ]
    },
    {
     "name": "stdout",
     "output_type": "stream",
     "text": [
      "Error #1 of 941 files in file: ..\\scenes\\gp_nhBdsKE4.118_2.mp4\n",
      "Error #1 of 942 files in file: ..\\scenes\\gp_nhBdsKE4.12_1.mp4\n"
     ]
    },
    {
     "name": "stderr",
     "output_type": "stream",
     "text": [
      "\r",
      "Testing:  91%|█████████ | 944/1040 [1:13:40<08:07,  5.08s/it]"
     ]
    },
    {
     "name": "stdout",
     "output_type": "stream",
     "text": [
      "Error #1 of 944 files in file: ..\\scenes\\gp_nhBdsKE4.13_3.mp4\n"
     ]
    },
    {
     "name": "stderr",
     "output_type": "stream",
     "text": [
      "Testing:  91%|█████████ | 947/1040 [1:13:49<05:26,  3.51s/it]"
     ]
    },
    {
     "name": "stdout",
     "output_type": "stream",
     "text": [
      "Error #1 of 946 files in file: ..\\scenes\\gp_nhBdsKE4.17_2.mp4\n"
     ]
    },
    {
     "name": "stderr",
     "output_type": "stream",
     "text": [
      "Testing:  92%|█████████▏| 952/1040 [1:14:30<10:40,  7.28s/it]"
     ]
    },
    {
     "name": "stdout",
     "output_type": "stream",
     "text": [
      "Error #1 of 952 files in file: ..\\scenes\\gp_nhBdsKE4.25_4.mp4\n"
     ]
    },
    {
     "name": "stderr",
     "output_type": "stream",
     "text": [
      "Testing:  92%|█████████▏| 955/1040 [1:14:46<08:49,  6.23s/it]"
     ]
    },
    {
     "name": "stdout",
     "output_type": "stream",
     "text": [
      "Error #1 of 955 files in file: ..\\scenes\\gp_nhBdsKE4.29_4.mp4\n"
     ]
    },
    {
     "name": "stderr",
     "output_type": "stream",
     "text": [
      "Testing:  93%|█████████▎| 963/1040 [1:15:25<05:10,  4.03s/it]"
     ]
    },
    {
     "name": "stdout",
     "output_type": "stream",
     "text": [
      "Error #1 of 961 files in file: ..\\scenes\\gp_nhBdsKE4.32_1.mp4\n",
      "Error #1 of 962 files in file: ..\\scenes\\gp_nhBdsKE4.32_2.mp4\n"
     ]
    },
    {
     "name": "stderr",
     "output_type": "stream",
     "text": [
      "Testing:  93%|█████████▎| 965/1040 [1:15:26<02:56,  2.35s/it]"
     ]
    },
    {
     "name": "stdout",
     "output_type": "stream",
     "text": [
      "Error #1 of 963 files in file: ..\\scenes\\gp_nhBdsKE4.33_3.mp4\n",
      "Error #1 of 964 files in file: ..\\scenes\\gp_nhBdsKE4.33_4.mp4\n"
     ]
    },
    {
     "name": "stderr",
     "output_type": "stream",
     "text": [
      "Testing:  93%|█████████▎| 968/1040 [1:15:41<04:17,  3.58s/it]"
     ]
    },
    {
     "name": "stdout",
     "output_type": "stream",
     "text": [
      "Error #1 of 967 files in file: ..\\scenes\\gp_nhBdsKE4.38_2.mp4\n"
     ]
    },
    {
     "name": "stderr",
     "output_type": "stream",
     "text": [
      "Testing:  93%|█████████▎| 971/1040 [1:15:49<02:49,  2.46s/it]"
     ]
    },
    {
     "name": "stdout",
     "output_type": "stream",
     "text": [
      "Error #1 of 969 files in file: ..\\scenes\\gp_nhBdsKE4.3_1.mp4\n",
      "Error #1 of 970 files in file: ..\\scenes\\gp_nhBdsKE4.41_1.mp4\n"
     ]
    },
    {
     "name": "stderr",
     "output_type": "stream",
     "text": [
      "Testing:  94%|█████████▍| 976/1040 [1:16:21<04:54,  4.60s/it]"
     ]
    },
    {
     "name": "stdout",
     "output_type": "stream",
     "text": [
      "Error #1 of 975 files in file: ..\\scenes\\gp_nhBdsKE4.50_1.mp4\n"
     ]
    },
    {
     "name": "stderr",
     "output_type": "stream",
     "text": [
      "Testing:  94%|█████████▍| 981/1040 [1:16:53<04:56,  5.03s/it]"
     ]
    },
    {
     "name": "stdout",
     "output_type": "stream",
     "text": [
      "Error #1 of 980 files in file: ..\\scenes\\gp_nhBdsKE4.55_1.mp4\n"
     ]
    },
    {
     "name": "stderr",
     "output_type": "stream",
     "text": [
      "Testing:  95%|█████████▍| 983/1040 [1:17:00<03:54,  4.11s/it]"
     ]
    },
    {
     "name": "stdout",
     "output_type": "stream",
     "text": [
      "Error #1 of 982 files in file: ..\\scenes\\gp_nhBdsKE4.59_2.mp4\n"
     ]
    },
    {
     "name": "stderr",
     "output_type": "stream",
     "text": [
      "Testing:  95%|█████████▍| 985/1040 [1:17:16<05:30,  6.01s/it]"
     ]
    },
    {
     "name": "stdout",
     "output_type": "stream",
     "text": [
      "Error #1 of 985 files in file: ..\\scenes\\gp_nhBdsKE4.61_2.mp4\n"
     ]
    },
    {
     "name": "stderr",
     "output_type": "stream",
     "text": [
      "Testing:  95%|█████████▌| 990/1040 [1:17:47<05:34,  6.68s/it]"
     ]
    },
    {
     "name": "stdout",
     "output_type": "stream",
     "text": [
      "Error #1 of 990 files in file: ..\\scenes\\gp_nhBdsKE4.70_1.mp4\n"
     ]
    },
    {
     "name": "stderr",
     "output_type": "stream",
     "text": [
      "Testing:  96%|█████████▌| 997/1040 [1:18:19<02:34,  3.59s/it]"
     ]
    },
    {
     "name": "stdout",
     "output_type": "stream",
     "text": [
      "Error #1 of 995 files in file: ..\\scenes\\gp_nhBdsKE4.73_2.mp4\n",
      "Error #1 of 996 files in file: ..\\scenes\\gp_nhBdsKE4.76_2.mp4\n"
     ]
    },
    {
     "name": "stderr",
     "output_type": "stream",
     "text": [
      "Testing:  96%|█████████▌| 999/1040 [1:18:34<03:55,  5.74s/it]"
     ]
    },
    {
     "name": "stdout",
     "output_type": "stream",
     "text": [
      "Error #1 of 999 files in file: ..\\scenes\\gp_nhBdsKE4.78_3.mp4\n"
     ]
    },
    {
     "name": "stderr",
     "output_type": "stream",
     "text": [
      "Testing:  97%|█████████▋| 1004/1040 [1:18:50<02:00,  3.34s/it]"
     ]
    },
    {
     "name": "stdout",
     "output_type": "stream",
     "text": [
      "Error #1 of 1002 files in file: ..\\scenes\\gp_nhBdsKE4.80_4.mp4\n",
      "Error #1 of 1003 files in file: ..\\scenes\\gp_nhBdsKE4.83_1.mp4\n"
     ]
    },
    {
     "name": "stderr",
     "output_type": "stream",
     "text": [
      "\r",
      "Testing:  97%|█████████▋| 1005/1040 [1:18:50<01:31,  2.61s/it]"
     ]
    },
    {
     "name": "stdout",
     "output_type": "stream",
     "text": [
      "Error #1 of 1004 files in file: ..\\scenes\\gp_nhBdsKE4.84_2.mp4\n"
     ]
    },
    {
     "name": "stderr",
     "output_type": "stream",
     "text": [
      "Testing:  98%|█████████▊| 1014/1040 [1:19:53<02:17,  5.28s/it]"
     ]
    },
    {
     "name": "stdout",
     "output_type": "stream",
     "text": [
      "Error #1 of 1013 files in file: ..\\scenes\\gp_nhBdsKE4.95_2.mp4\n"
     ]
    },
    {
     "name": "stderr",
     "output_type": "stream",
     "text": [
      "Testing:  98%|█████████▊| 1016/1040 [1:20:01<01:44,  4.36s/it]"
     ]
    },
    {
     "name": "stdout",
     "output_type": "stream",
     "text": [
      "Error #1 of 1015 files in file: ..\\scenes\\gp_nhBdsKE4.96_3.mp4\n"
     ]
    },
    {
     "name": "stderr",
     "output_type": "stream",
     "text": [
      "Testing:  98%|█████████▊| 1018/1040 [1:20:09<01:24,  3.83s/it]"
     ]
    },
    {
     "name": "stdout",
     "output_type": "stream",
     "text": [
      "Error #1 of 1017 files in file: ..\\scenes\\gp_nhBdsKE4.98_1.mp4\n",
      "Error #1 of 1018 files in file: ..\\scenes\\gp_nhBdsKE4.99_2.mp4\n"
     ]
    },
    {
     "name": "stderr",
     "output_type": "stream",
     "text": [
      "Testing:  98%|█████████▊| 1023/1040 [1:20:25<00:48,  2.87s/it]"
     ]
    },
    {
     "name": "stdout",
     "output_type": "stream",
     "text": [
      "Error #1 of 1021 files in file: ..\\scenes\\gp_svVd3Wv4.0_12.mp4\n",
      "Error #1 of 1022 files in file: ..\\scenes\\gp_svVd3Wv4.0_3.mp4\n"
     ]
    },
    {
     "name": "stderr",
     "output_type": "stream",
     "text": [
      "Testing:  99%|█████████▉| 1028/1040 [1:20:33<00:19,  1.59s/it]"
     ]
    },
    {
     "name": "stdout",
     "output_type": "stream",
     "text": [
      "Error #1 of 1024 files in file: ..\\scenes\\gp_svVd3Wv4.0_6.mp4\n",
      "Error #1 of 1025 files in file: ..\\scenes\\gp_svVd3Wv4.0_7.mp4\n",
      "Error #1 of 1026 files in file: ..\\scenes\\gp_svVd3Wv4.0_8.mp4\n",
      "Error #1 of 1027 files in file: ..\\scenes\\gp_svVd3Wv4.0_9.mp4\n"
     ]
    },
    {
     "name": "stderr",
     "output_type": "stream",
     "text": [
      "\r",
      "Testing:  99%|█████████▉| 1030/1040 [1:20:41<00:23,  2.35s/it]"
     ]
    },
    {
     "name": "stdout",
     "output_type": "stream",
     "text": [
      "Error #1 of 1029 files in file: ..\\scenes\\gp_svVd3Wv4.1_7.mp4\n"
     ]
    },
    {
     "name": "stderr",
     "output_type": "stream",
     "text": [
      "Testing:  99%|█████████▉| 1034/1040 [1:20:56<00:16,  2.72s/it]"
     ]
    },
    {
     "name": "stdout",
     "output_type": "stream",
     "text": [
      "Error #1 of 1032 files in file: ..\\scenes\\gp_svVd3Wv4.2_1.mp4\n",
      "Error #1 of 1033 files in file: ..\\scenes\\gp_svVd3Wv4.2_2.mp4\n"
     ]
    },
    {
     "name": "stderr",
     "output_type": "stream",
     "text": [
      "Testing: 100%|█████████▉| 1036/1040 [1:21:04<00:11,  2.95s/it]"
     ]
    },
    {
     "name": "stdout",
     "output_type": "stream",
     "text": [
      "Error #1 of 1035 files in file: ..\\scenes\\gp_svVd3Wv4.3_3.mp4\n",
      "Error #1 of 1036 files in file: ..\\scenes\\gp_svVd3Wv4.3_5.mp4\n"
     ]
    },
    {
     "name": "stderr",
     "output_type": "stream",
     "text": [
      "Testing: 100%|██████████| 1040/1040 [1:21:28<00:00,  4.70s/it]\n"
     ]
    }
   ],
   "source": [
    "# Run the DOVER pipeline\n",
    "results = dover.evaluate_videos(args)"
   ]
  },
  {
   "cell_type": "code",
   "execution_count": 4,
   "id": "ca9f40aa",
   "metadata": {
    "scrolled": true
   },
   "outputs": [
    {
     "data": {
      "text/html": [
       "<div>\n",
       "<style scoped>\n",
       "    .dataframe tbody tr th:only-of-type {\n",
       "        vertical-align: middle;\n",
       "    }\n",
       "\n",
       "    .dataframe tbody tr th {\n",
       "        vertical-align: top;\n",
       "    }\n",
       "\n",
       "    .dataframe thead th {\n",
       "        text-align: right;\n",
       "    }\n",
       "</style>\n",
       "<table border=\"1\" class=\"dataframe\">\n",
       "  <thead>\n",
       "    <tr style=\"text-align: right;\">\n",
       "      <th></th>\n",
       "      <th>URL</th>\n",
       "      <th>Aesthetic</th>\n",
       "      <th>Technical</th>\n",
       "      <th>Overall</th>\n",
       "    </tr>\n",
       "  </thead>\n",
       "  <tbody>\n",
       "    <tr>\n",
       "      <th>0</th>\n",
       "      <td>gpAkjSy_8iY.2_2</td>\n",
       "      <td>67.453521</td>\n",
       "      <td>48.172435</td>\n",
       "      <td>55.953792</td>\n",
       "    </tr>\n",
       "    <tr>\n",
       "      <th>1</th>\n",
       "      <td>gpAkjSy_8iY.2_3</td>\n",
       "      <td>73.798361</td>\n",
       "      <td>47.428171</td>\n",
       "      <td>58.433316</td>\n",
       "    </tr>\n",
       "    <tr>\n",
       "      <th>2</th>\n",
       "      <td>gpAkjSy_8iY.2_4</td>\n",
       "      <td>71.090982</td>\n",
       "      <td>50.908183</td>\n",
       "      <td>59.212123</td>\n",
       "    </tr>\n",
       "    <tr>\n",
       "      <th>3</th>\n",
       "      <td>gpAkjSy_8iY.2_5</td>\n",
       "      <td>65.278287</td>\n",
       "      <td>49.200457</td>\n",
       "      <td>55.636661</td>\n",
       "    </tr>\n",
       "    <tr>\n",
       "      <th>4</th>\n",
       "      <td>gpAkjSy_8iY.2_6</td>\n",
       "      <td>66.267066</td>\n",
       "      <td>49.402676</td>\n",
       "      <td>56.180238</td>\n",
       "    </tr>\n",
       "  </tbody>\n",
       "</table>\n",
       "</div>"
      ],
      "text/plain": [
       "               URL  Aesthetic  Technical    Overall\n",
       "0  gpAkjSy_8iY.2_2  67.453521  48.172435  55.953792\n",
       "1  gpAkjSy_8iY.2_3  73.798361  47.428171  58.433316\n",
       "2  gpAkjSy_8iY.2_4  71.090982  50.908183  59.212123\n",
       "3  gpAkjSy_8iY.2_5  65.278287  49.200457  55.636661\n",
       "4  gpAkjSy_8iY.2_6  66.267066  49.402676  56.180238"
      ]
     },
     "execution_count": 4,
     "metadata": {},
     "output_type": "execute_result"
    }
   ],
   "source": [
    "results.head()"
   ]
  }
 ],
 "metadata": {
  "kernelspec": {
   "display_name": "Python 3 (ipykernel)",
   "language": "python",
   "name": "python3"
  },
  "language_info": {
   "codemirror_mode": {
    "name": "ipython",
    "version": 3
   },
   "file_extension": ".py",
   "mimetype": "text/x-python",
   "name": "python",
   "nbconvert_exporter": "python",
   "pygments_lexer": "ipython3",
   "version": "3.9.7"
  }
 },
 "nbformat": 4,
 "nbformat_minor": 5
}
