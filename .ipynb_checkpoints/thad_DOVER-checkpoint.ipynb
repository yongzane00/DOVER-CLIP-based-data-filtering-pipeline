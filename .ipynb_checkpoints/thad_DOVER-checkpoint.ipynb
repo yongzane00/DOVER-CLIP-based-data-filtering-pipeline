{
 "cells": [
  {
   "cell_type": "markdown",
   "id": "1a6cd210",
   "metadata": {},
   "source": [
    "# Test notebook to implement VQA method from https://github.com/VQAssessment/DOVER\n",
    "\n",
    "## Dependencies from DOVER:\n",
    "torch~=1.13\n",
    "torchvision\n",
    "opencv-python\n",
    "decord\n",
    "matplotlib\n",
    "scipy\n",
    "numpy\n",
    "tqdm\n",
    "timm\n",
    "einops\n",
    "wandb\n",
    "scikit-video\n",
    "thop==0.0.31-2005241907\n",
    "onnx\n",
    "argparse\n",
    "\n",
    "## Dependencies from my modified version:\n",
    "pandas"
   ]
  },
  {
   "cell_type": "code",
   "execution_count": 1,
   "id": "d2643dd4",
   "metadata": {},
   "outputs": [],
   "source": [
    "import argparse\n",
    "import DOVER.dover_eval_thad as dover\n",
    "import pandas"
   ]
  },
  {
   "cell_type": "code",
   "execution_count": 2,
   "id": "b81ae1a8",
   "metadata": {},
   "outputs": [],
   "source": [
    "# Create a class to parse arguments into video quality assessment function\n",
    "# There's probably a smarter way to do this, but whatever\n",
    "# Trying to work with legacy code inherited from the DOVER library - was originally meant to be a CLI tool\n",
    "# But we gotta use Jupyter Notebook so it is what it is\n",
    "\n",
    "class doverArgs(argparse.Namespace):\n",
    "  opt = \".\\DOVER\\dover-mobile.yml\" # Relative path to the pre-trained model weights (using DOVER mobile because i'm weak af)\n",
    "  input_video_dir = \".\\scenes\" # Relative path to downloaded clips (.mp4 format)\n",
    "  output_result_csv = \".\\DOVER_pred_scores.csv\" # Relative path to save an output csv file with scores and URLs\n",
    "  device = \"cpu\" # Torch device used (CPU cuz again, laptop no processing power lol)\n",
    "\n",
    "args=doverArgs()"
   ]
  },
  {
   "cell_type": "code",
   "execution_count": null,
   "id": "fbb203bb",
   "metadata": {
    "scrolled": true
   },
   "outputs": [
    {
     "name": "stdout",
     "output_type": "stream",
     "text": [
      "Setting backbone: technical_backbone\n",
      "Setting backbone: aesthetic_backbone\n",
      "Setting head: technical_head\n",
      "Setting head: aesthetic_head\n",
      "Dataset Length:  1040  files found.\n"
     ]
    },
    {
     "name": "stderr",
     "output_type": "stream",
     "text": [
      "Testing:   1%|          | 9/1040 [00:54<1:04:44,  3.77s/it]"
     ]
    },
    {
     "name": "stdout",
     "output_type": "stream",
     "text": [
      "Error #1 of 7 files in file: .\\scenes\\gpAkjSy_8iY.3_3.mp4\n",
      "Error #1 of 8 files in file: .\\scenes\\gpAkjSy_8iY.3_4.mp4\n"
     ]
    },
    {
     "name": "stderr",
     "output_type": "stream",
     "text": [
      "Testing:   2%|▏         | 21/1040 [02:27<1:36:19,  5.67s/it]"
     ]
    },
    {
     "name": "stdout",
     "output_type": "stream",
     "text": [
      "Error #1 of 20 files in file: .\\scenes\\gpB2FGY5Fuk.0_1.mp4\n",
      "Error #1 of 21 files in file: .\\scenes\\gpB2FGY5Fuk.1_4.mp4\n"
     ]
    },
    {
     "name": "stderr",
     "output_type": "stream",
     "text": [
      "Testing:   2%|▏         | 24/1040 [02:27<40:26,  2.39s/it]  "
     ]
    },
    {
     "name": "stdout",
     "output_type": "stream",
     "text": [
      "Error #1 of 22 files in file: .\\scenes\\gpB2FGY5Fuk.2_4.mp4\n",
      "Error #1 of 23 files in file: .\\scenes\\gpB2FGY5Fuk.3_1.mp4\n"
     ]
    },
    {
     "name": "stderr",
     "output_type": "stream",
     "text": [
      "Testing:   2%|▎         | 26/1040 [02:27<22:46,  1.35s/it]"
     ]
    },
    {
     "name": "stdout",
     "output_type": "stream",
     "text": [
      "Error #1 of 24 files in file: .\\scenes\\gpBBohls8kw.0_1.mp4\n",
      "Error #1 of 25 files in file: .\\scenes\\gpBBohls8kw.2_2.mp4\n"
     ]
    },
    {
     "name": "stderr",
     "output_type": "stream",
     "text": [
      "\r",
      "Testing:   3%|▎         | 27/1040 [02:28<17:35,  1.04s/it]"
     ]
    },
    {
     "name": "stdout",
     "output_type": "stream",
     "text": [
      "Error #1 of 26 files in file: .\\scenes\\gpBBohls8kw.2_3.mp4\n"
     ]
    },
    {
     "name": "stderr",
     "output_type": "stream",
     "text": [
      "Testing:   3%|▎         | 29/1040 [02:28<10:18,  1.63it/s]"
     ]
    },
    {
     "name": "stdout",
     "output_type": "stream",
     "text": [
      "Error #1 of 27 files in file: .\\scenes\\gpBBohls8kw.2_4.mp4\n",
      "Error #1 of 28 files in file: .\\scenes\\gpBBohls8kw.3_2.mp4\n"
     ]
    },
    {
     "name": "stderr",
     "output_type": "stream",
     "text": [
      "Testing:   3%|▎         | 31/1040 [02:28<06:21,  2.64it/s]"
     ]
    },
    {
     "name": "stdout",
     "output_type": "stream",
     "text": [
      "Error #1 of 29 files in file: .\\scenes\\gpBBohls8kw.3_3.mp4\n",
      "Error #1 of 30 files in file: .\\scenes\\gpBBohls8kw.3_4.mp4\n"
     ]
    },
    {
     "name": "stderr",
     "output_type": "stream",
     "text": [
      "\r",
      "Testing:   3%|▎         | 32/1040 [02:29<05:14,  3.21it/s]"
     ]
    },
    {
     "name": "stdout",
     "output_type": "stream",
     "text": [
      "Error #1 of 31 files in file: .\\scenes\\gpBBohls8kw.4_2.mp4\n",
      "Error #1 of 32 files in file: .\\scenes\\gpBBohls8kw.4_3.mp4\n"
     ]
    },
    {
     "name": "stderr",
     "output_type": "stream",
     "text": [
      "Testing:   3%|▎         | 35/1040 [02:29<03:31,  4.76it/s]"
     ]
    },
    {
     "name": "stdout",
     "output_type": "stream",
     "text": [
      "Error #1 of 33 files in file: .\\scenes\\gpBBohls8kw.5_2.mp4\n",
      "Error #1 of 34 files in file: .\\scenes\\gpBBohls8kw.5_3.mp4\n"
     ]
    },
    {
     "name": "stderr",
     "output_type": "stream",
     "text": [
      "Testing:   4%|▎         | 37/1040 [02:29<03:20,  5.01it/s]"
     ]
    },
    {
     "name": "stdout",
     "output_type": "stream",
     "text": [
      "Error #1 of 35 files in file: .\\scenes\\gpBBohls8kw.5_4.mp4\n",
      "Error #1 of 36 files in file: .\\scenes\\gpBBohls8kw.7_1.mp4\n"
     ]
    },
    {
     "name": "stderr",
     "output_type": "stream",
     "text": [
      "Testing:   4%|▍         | 39/1040 [02:30<02:48,  5.96it/s]"
     ]
    },
    {
     "name": "stdout",
     "output_type": "stream",
     "text": [
      "Error #1 of 37 files in file: .\\scenes\\gpBNYu0siRk.11_2.mp4\n",
      "Error #1 of 38 files in file: .\\scenes\\gpBNYu0siRk.12_1.mp4\n"
     ]
    },
    {
     "name": "stderr",
     "output_type": "stream",
     "text": [
      "Testing:   4%|▍         | 42/1040 [02:38<21:21,  1.28s/it]"
     ]
    },
    {
     "name": "stdout",
     "output_type": "stream",
     "text": [
      "Error #1 of 40 files in file: .\\scenes\\gpBNYu0siRk.13_2.mp4\n",
      "Error #1 of 41 files in file: .\\scenes\\gpBNYu0siRk.15_1.mp4\n"
     ]
    },
    {
     "name": "stderr",
     "output_type": "stream",
     "text": [
      "\r",
      "Testing:   4%|▍         | 43/1040 [02:38<15:39,  1.06it/s]"
     ]
    },
    {
     "name": "stdout",
     "output_type": "stream",
     "text": [
      "Error #1 of 42 files in file: .\\scenes\\gpBNYu0siRk.18_1.mp4\n"
     ]
    },
    {
     "name": "stderr",
     "output_type": "stream",
     "text": [
      "Testing:   4%|▍         | 45/1040 [02:38<09:00,  1.84it/s]"
     ]
    },
    {
     "name": "stdout",
     "output_type": "stream",
     "text": [
      "Error #1 of 43 files in file: .\\scenes\\gpBNYu0siRk.19_2.mp4\n",
      "Error #1 of 44 files in file: .\\scenes\\gpBNYu0siRk.1_2.mp4\n"
     ]
    },
    {
     "name": "stderr",
     "output_type": "stream",
     "text": [
      "Testing:   5%|▍         | 47/1040 [02:39<05:43,  2.89it/s]"
     ]
    },
    {
     "name": "stdout",
     "output_type": "stream",
     "text": [
      "Error #1 of 45 files in file: .\\scenes\\gpBNYu0siRk.20_1.mp4\n",
      "Error #1 of 46 files in file: .\\scenes\\gpBNYu0siRk.21_1.mp4\n"
     ]
    },
    {
     "name": "stderr",
     "output_type": "stream",
     "text": [
      "\r",
      "Testing:   5%|▍         | 48/1040 [02:39<04:55,  3.36it/s]"
     ]
    },
    {
     "name": "stdout",
     "output_type": "stream",
     "text": [
      "Error #1 of 47 files in file: .\\scenes\\gpBNYu0siRk.22_2.mp4\n"
     ]
    },
    {
     "name": "stderr",
     "output_type": "stream",
     "text": [
      "Testing:   5%|▍         | 51/1040 [02:47<23:03,  1.40s/it]"
     ]
    },
    {
     "name": "stdout",
     "output_type": "stream",
     "text": [
      "Error #1 of 49 files in file: .\\scenes\\gpBNYu0siRk.2_6.mp4\n",
      "Error #1 of 50 files in file: .\\scenes\\gpBNYu0siRk.3_4.mp4\n"
     ]
    },
    {
     "name": "stderr",
     "output_type": "stream",
     "text": [
      "Testing:   5%|▌         | 53/1040 [02:48<12:26,  1.32it/s]"
     ]
    },
    {
     "name": "stdout",
     "output_type": "stream",
     "text": [
      "Error #1 of 51 files in file: .\\scenes\\gpBNYu0siRk.5_1.mp4\n",
      "Error #1 of 52 files in file: .\\scenes\\gpBNYu0siRk.6_2.mp4\n"
     ]
    },
    {
     "name": "stderr",
     "output_type": "stream",
     "text": [
      "Testing:   5%|▌         | 55/1040 [02:48<07:05,  2.32it/s]"
     ]
    },
    {
     "name": "stdout",
     "output_type": "stream",
     "text": [
      "Error #1 of 53 files in file: .\\scenes\\gpBNYu0siRk.7_2.mp4\n",
      "Error #1 of 54 files in file: .\\scenes\\gpBNYu0siRk.8_1.mp4\n"
     ]
    },
    {
     "name": "stderr",
     "output_type": "stream",
     "text": [
      "Testing:   5%|▌         | 57/1040 [03:04<1:10:36,  4.31s/it]"
     ]
    },
    {
     "name": "stdout",
     "output_type": "stream",
     "text": [
      "Error #1 of 57 files in file: .\\scenes\\gpBuYw_jCGs.1_4.mp4\n"
     ]
    },
    {
     "name": "stderr",
     "output_type": "stream",
     "text": [
      "Testing:   6%|▌         | 62/1040 [03:28<1:10:47,  4.34s/it]"
     ]
    },
    {
     "name": "stdout",
     "output_type": "stream",
     "text": [
      "Error #1 of 61 files in file: .\\scenes\\gpBuYw_jCGs.4_1.mp4\n"
     ]
    },
    {
     "name": "stderr",
     "output_type": "stream",
     "text": [
      "Testing:   6%|▋         | 65/1040 [03:44<1:11:45,  4.42s/it]"
     ]
    },
    {
     "name": "stdout",
     "output_type": "stream",
     "text": [
      "Error #1 of 64 files in file: .\\scenes\\gpCmv2FAjow.3_1.mp4\n"
     ]
    },
    {
     "name": "stderr",
     "output_type": "stream",
     "text": [
      "\r",
      "Testing:   6%|▋         | 66/1040 [03:45<51:50,  3.19s/it]  "
     ]
    },
    {
     "name": "stdout",
     "output_type": "stream",
     "text": [
      "Error #1 of 65 files in file: .\\scenes\\gpCmv2FAjow.5_1.mp4\n"
     ]
    },
    {
     "name": "stderr",
     "output_type": "stream",
     "text": [
      "Testing:   7%|▋         | 68/1040 [03:45<27:04,  1.67s/it]"
     ]
    },
    {
     "name": "stdout",
     "output_type": "stream",
     "text": [
      "Error #1 of 66 files in file: .\\scenes\\gpCmv2FAjow.5_2.mp4\n",
      "Error #1 of 67 files in file: .\\scenes\\gpCmv2FAjow.6_1.mp4\n"
     ]
    },
    {
     "name": "stderr",
     "output_type": "stream",
     "text": [
      "Testing:   8%|▊         | 78/1040 [04:54<1:23:58,  5.24s/it]"
     ]
    },
    {
     "name": "stdout",
     "output_type": "stream",
     "text": [
      "Error #1 of 77 files in file: .\\scenes\\gpDEeX3WYGs.0_2.mp4\n"
     ]
    },
    {
     "name": "stderr",
     "output_type": "stream",
     "text": [
      "Testing:   8%|▊         | 83/1040 [05:25<1:20:31,  5.05s/it]"
     ]
    },
    {
     "name": "stdout",
     "output_type": "stream",
     "text": [
      "Error #1 of 82 files in file: .\\scenes\\gpDEeX3WYGs.11_3.mp4\n"
     ]
    },
    {
     "name": "stderr",
     "output_type": "stream",
     "text": [
      "Testing:   8%|▊         | 86/1040 [05:40<1:10:56,  4.46s/it]"
     ]
    },
    {
     "name": "stdout",
     "output_type": "stream",
     "text": [
      "Error #1 of 85 files in file: .\\scenes\\gpDEeX3WYGs.12_4.mp4\n"
     ]
    },
    {
     "name": "stderr",
     "output_type": "stream",
     "text": [
      "Testing:   8%|▊         | 88/1040 [05:48<1:00:44,  3.83s/it]"
     ]
    },
    {
     "name": "stdout",
     "output_type": "stream",
     "text": [
      "Error #1 of 87 files in file: .\\scenes\\gpDEeX3WYGs.14_2.mp4\n"
     ]
    },
    {
     "name": "stderr",
     "output_type": "stream",
     "text": [
      "Testing:   9%|▉         | 91/1040 [06:03<1:03:53,  4.04s/it]"
     ]
    },
    {
     "name": "stdout",
     "output_type": "stream",
     "text": [
      "Error #1 of 90 files in file: .\\scenes\\gpDEeX3WYGs.16_1.mp4\n"
     ]
    },
    {
     "name": "stderr",
     "output_type": "stream",
     "text": [
      "\r",
      "Testing:   9%|▉         | 92/1040 [06:10<1:20:28,  5.09s/it]"
     ]
    },
    {
     "name": "stdout",
     "output_type": "stream",
     "text": [
      "Error #1 of 92 files in file: .\\scenes\\gpDEeX3WYGs.16_3.mp4\n"
     ]
    },
    {
     "name": "stderr",
     "output_type": "stream",
     "text": [
      "Testing:  10%|▉         | 100/1040 [06:58<1:20:12,  5.12s/it]"
     ]
    },
    {
     "name": "stdout",
     "output_type": "stream",
     "text": [
      "Error #1 of 99 files in file: .\\scenes\\gpDEeX3WYGs.17_4.mp4\n"
     ]
    },
    {
     "name": "stderr",
     "output_type": "stream",
     "text": [
      "Testing:  10%|▉         | 103/1040 [07:22<1:50:11,  7.06s/it]"
     ]
    },
    {
     "name": "stdout",
     "output_type": "stream",
     "text": [
      "Error #1 of 103 files in file: .\\scenes\\gpDEeX3WYGs.19_2.mp4\n"
     ]
    },
    {
     "name": "stderr",
     "output_type": "stream",
     "text": [
      "Testing:  10%|█         | 107/1040 [07:30<53:25,  3.44s/it]  "
     ]
    },
    {
     "name": "stdout",
     "output_type": "stream",
     "text": [
      "Error #1 of 105 files in file: .\\scenes\\gpDEeX3WYGs.1_5.mp4\n",
      "Error #1 of 106 files in file: .\\scenes\\gpDEeX3WYGs.1_6.mp4\n"
     ]
    },
    {
     "name": "stderr",
     "output_type": "stream",
     "text": [
      "Testing:  11%|█         | 110/1040 [07:46<1:01:27,  3.97s/it]"
     ]
    },
    {
     "name": "stdout",
     "output_type": "stream",
     "text": [
      "Error #1 of 109 files in file: .\\scenes\\gpDEeX3WYGs.20_3.mp4\n"
     ]
    },
    {
     "name": "stderr",
     "output_type": "stream",
     "text": [
      "Testing:  11%|█         | 115/1040 [08:19<1:17:33,  5.03s/it]"
     ]
    },
    {
     "name": "stdout",
     "output_type": "stream",
     "text": [
      "Error #1 of 114 files in file: .\\scenes\\gpDEeX3WYGs.2_2.mp4\n"
     ]
    },
    {
     "name": "stderr",
     "output_type": "stream",
     "text": [
      "\r",
      "Testing:  11%|█         | 116/1040 [08:27<1:30:18,  5.86s/it]"
     ]
    },
    {
     "name": "stdout",
     "output_type": "stream",
     "text": [
      "Error #1 of 116 files in file: .\\scenes\\gpDEeX3WYGs.3_10.mp4\n"
     ]
    },
    {
     "name": "stderr",
     "output_type": "stream",
     "text": [
      "Testing:  12%|█▏        | 123/1040 [08:59<58:45,  3.84s/it]  "
     ]
    },
    {
     "name": "stdout",
     "output_type": "stream",
     "text": [
      "Error #1 of 121 files in file: .\\scenes\\gpDEeX3WYGs.3_5.mp4\n",
      "Error #1 of 122 files in file: .\\scenes\\gpDEeX3WYGs.3_7.mp4\n",
      "Error #1 of 123 files in file: .\\scenes\\gpDEeX3WYGs.3_8.mp4\n"
     ]
    },
    {
     "name": "stderr",
     "output_type": "stream",
     "text": [
      "Testing:  12%|█▏        | 129/1040 [09:32<1:10:43,  4.66s/it]"
     ]
    },
    {
     "name": "stdout",
     "output_type": "stream",
     "text": [
      "Error #1 of 128 files in file: .\\scenes\\gpDEeX3WYGs.4_7.mp4\n"
     ]
    },
    {
     "name": "stderr",
     "output_type": "stream",
     "text": [
      "Testing:  13%|█▎        | 131/1040 [09:40<1:01:30,  4.06s/it]"
     ]
    },
    {
     "name": "stdout",
     "output_type": "stream",
     "text": [
      "Error #1 of 130 files in file: .\\scenes\\gpDEeX3WYGs.5_4.mp4\n"
     ]
    },
    {
     "name": "stderr",
     "output_type": "stream",
     "text": [
      "Testing:  13%|█▎        | 134/1040 [09:56<1:04:50,  4.29s/it]"
     ]
    },
    {
     "name": "stdout",
     "output_type": "stream",
     "text": [
      "Error #1 of 133 files in file: .\\scenes\\gpDEeX3WYGs.6_4.mp4\n"
     ]
    },
    {
     "name": "stderr",
     "output_type": "stream",
     "text": [
      "Testing:  15%|█▍        | 154/1040 [12:32<1:27:04,  5.90s/it]"
     ]
    },
    {
     "name": "stdout",
     "output_type": "stream",
     "text": [
      "Error #1 of 153 files in file: .\\scenes\\gpDeSiQ2dtg.15_2.mp4\n"
     ]
    },
    {
     "name": "stderr",
     "output_type": "stream",
     "text": [
      "Testing:  15%|█▌        | 158/1040 [12:54<1:06:08,  4.50s/it]"
     ]
    },
    {
     "name": "stdout",
     "output_type": "stream",
     "text": [
      "Error #1 of 156 files in file: .\\scenes\\gpDeSiQ2dtg.6_3.mp4\n",
      "Error #1 of 157 files in file: .\\scenes\\gpDeSiQ2dtg.6_4.mp4\n"
     ]
    },
    {
     "name": "stderr",
     "output_type": "stream",
     "text": [
      "Testing:  15%|█▌        | 160/1040 [13:10<1:28:38,  6.04s/it]"
     ]
    },
    {
     "name": "stdout",
     "output_type": "stream",
     "text": [
      "Error #1 of 160 files in file: .\\scenes\\gpDeSiQ2dtg.6_7.mp4\n"
     ]
    }
   ],
   "source": [
    "# Run the DOVER pipeline\n",
    "\n",
    "results = dover.evaluate_videos(args)"
   ]
  },
  {
   "cell_type": "code",
   "execution_count": null,
   "id": "ca9f40aa",
   "metadata": {
    "scrolled": true
   },
   "outputs": [],
   "source": [
    "results.head()"
   ]
  }
 ],
 "metadata": {
  "kernelspec": {
   "display_name": "Python 3 (ipykernel)",
   "language": "python",
   "name": "python3"
  },
  "language_info": {
   "codemirror_mode": {
    "name": "ipython",
    "version": 3
   },
   "file_extension": ".py",
   "mimetype": "text/x-python",
   "name": "python",
   "nbconvert_exporter": "python",
   "pygments_lexer": "ipython3",
   "version": "3.9.7"
  }
 },
 "nbformat": 4,
 "nbformat_minor": 5
}
